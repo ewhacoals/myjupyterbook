{
  "nbformat": 4,
  "nbformat_minor": 0,
  "metadata": {
    "colab": {
      "provenance": []
    },
    "kernelspec": {
      "name": "python3",
      "display_name": "Python 3"
    },
    "language_info": {
      "name": "python"
    }
  },
  "cells": [
    {
      "cell_type": "markdown",
      "source": [
        "# **3_Recursion**"
      ],
      "metadata": {
        "id": "fcP9PdXmVX2Y"
      }
    },
    {
      "cell_type": "markdown",
      "source": [
        "## Modify sys.path to Import External Modules"
      ],
      "metadata": {
        "id": "k-sTHlVBhDYd"
      }
    },
    {
      "cell_type": "markdown",
      "source": [],
      "metadata": {
        "id": "ofwQQRxSi9qQ"
      }
    },
    {
      "cell_type": "code",
      "source": [
        "import sys\n",
        "sys.path.append(\"C:\\Users/안채민/Desktop/Jupyter_Book/template_jupyterbook\")"
      ],
      "metadata": {
        "id": "kmVGyNeRhDQ3"
      },
      "execution_count": null,
      "outputs": []
    },
    {
      "cell_type": "markdown",
      "source": [
        "# Example 1: Fibonacci\n",
        "\n",
        "In the lecture, we showed the time complexity of the below algorithm for Fibonacci series is $O(2^n)$. In similar way, find Big Omega $\\Omega(\\cdot)$ of this algorithm.\n"
      ],
      "metadata": {
        "id": "p3b3bDBni-gY"
      }
    },
    {
      "cell_type": "code",
      "source": [
        "# Recursion\n",
        "def fib_recursive(n):\n",
        "  if n < 0:\n",
        "    print(\"Incorrect input\")\n",
        "  elif n == 0:\n",
        "    return 0\n",
        "  elif n == 1 or n == 2:\n",
        "    return 1\n",
        "  else:\n",
        "    return fib_recursive(n-1)+fib_recursive(n-2)"
      ],
      "metadata": {
        "id": "9ppWH1oJnAxE"
      },
      "execution_count": null,
      "outputs": []
    },
    {
      "cell_type": "markdown",
      "source": [
        "## Solution"
      ],
      "metadata": {
        "id": "SnuFNKgvcvZH"
      }
    },
    {
      "cell_type": "markdown",
      "source": [
        "# Example 2: Factorial\n",
        "\n",
        "* Write functions that calculates the factorial of n (i.e., n!)\n",
        "  - Approach 1: Using For loop\n",
        "  - Approach 2: Using Recursive algorithm\n",
        "\n",
        "$$\n",
        "\\begin{align*}\n",
        "n!=\n",
        "\\begin{cases}\n",
        "  1 & \\text{if $n < 1$}\\\\\n",
        "  n*(n-1)! & \\text{if $n \\ge 1$}\n",
        "\\end{cases}    \n",
        "\\end{align*}\n",
        "$$\n",
        "\n",
        "* Time complexity analysis\n",
        "  - Provide comparison of both practical (e.g. for n=600) and theoretical time complexity analysis for each approach\n",
        "\n",
        "## Solution\n",
        "\n"
      ],
      "metadata": {
        "id": "P7nEIrGInrC2"
      }
    },
    {
      "cell_type": "code",
      "source": [
        "import time\n",
        "\n",
        "def factorial_for(num):\n",
        "    result = 1\n",
        "    for num in range(2, num + 1): #o(n)\n",
        "        result *= num\n",
        "    return result\n",
        "\n",
        "def factorial_recursive(num):\n",
        "    if num <= 1:\n",
        "        return 1\n",
        "    return num * factorial_recursive(num - 1) #o(n)*o(1)\n",
        "\n",
        "start_time = time.time()\n",
        "factorial_for(600)\n",
        "time_for = time.time() - start_time\n",
        "\n",
        "start_time = time.time()\n",
        "factorial_recursive(600)\n",
        "time_recursive = time.time() - start_time\n",
        "\n",
        "print(\"Time for iterative approach:\", round(time_for, 4), \"minutes\")\n",
        "print(\"Time for recursive approach:\", round(time_recursive, 4), \"minutes\")"
      ],
      "metadata": {
        "id": "P0NSbGtdnrSm",
        "colab": {
          "base_uri": "https://localhost:8080/"
        },
        "outputId": "7ab31910-e453-4e63-c90b-160a2cbdd127"
      },
      "execution_count": null,
      "outputs": [
        {
          "output_type": "stream",
          "name": "stdout",
          "text": [
            "Time for iterative approach: 0.0002 minutes\n",
            "Time for recursive approach: 0.0003 minutes\n"
          ]
        }
      ]
    },
    {
      "cell_type": "markdown",
      "source": [
        "# Example 3: Gugu-dan\n",
        "\n",
        "We can write an iterative algorithm that prints out a multiplication table (i.e., gugu-dan) as below. Write a recursive algorithm for the gugu-dan. For example, 'Table of 3' should print the following. What is the Big O of the gugu-dan algorithms?\n",
        "\n",
        "## Solution"
      ],
      "metadata": {
        "id": "tuQ1MsZFg9Zv"
      }
    },
    {
      "cell_type": "code",
      "source": [
        "# Iterative\n",
        "def gugu_iterative(dan):\n",
        "    for num in range(1, 10):\n",
        "        print(\"%d x %d = %d\" % (dan, num, dan * num))\n",
        "gugu_iterative(3)\n",
        "\n",
        "def gugu_recursive(dan, num=1):\n",
        "    if num > 9:\n",
        "        return\n",
        "    print(\"%d x %d = %d\" % (dan, num, dan * num))\n",
        "    gugu_recursive(dan, num + 1)\n",
        "gugu_recursive(3)"
      ],
      "metadata": {
        "colab": {
          "base_uri": "https://localhost:8080/"
        },
        "id": "CjEEiGleg9Cz",
        "outputId": "e0abc883-4504-4052-b2a0-29221007d457"
      },
      "execution_count": null,
      "outputs": [
        {
          "output_type": "stream",
          "name": "stdout",
          "text": [
            "3 x 1 = 3\n",
            "3 x 2 = 6\n",
            "3 x 3 = 9\n",
            "3 x 4 = 12\n",
            "3 x 5 = 15\n",
            "3 x 6 = 18\n",
            "3 x 7 = 21\n",
            "3 x 8 = 24\n",
            "3 x 9 = 27\n",
            "3 x 1 = 3\n",
            "3 x 2 = 6\n",
            "3 x 3 = 9\n",
            "3 x 4 = 12\n",
            "3 x 5 = 15\n",
            "3 x 6 = 18\n",
            "3 x 7 = 21\n",
            "3 x 8 = 24\n",
            "3 x 9 = 27\n"
          ]
        }
      ]
    },
    {
      "cell_type": "markdown",
      "source": [
        "# Example 4: Fibonacci O(n)\n",
        "\n",
        "Can you write an algorithm for the Fibonacci series with a time complexity of $O(n)$ instead of $O(2^n)$? For example, Fibonacci sequence up to the 10th term (index 0 to 10) is $[0, 1, 1, 2, 3, 5, 8, 13, 21, 34, 55]$,\n",
        "\n",
        "Hint: [Helpful resource](https://chanos.tistory.com/entry/%EC%9E%90%EB%A3%8C%EA%B5%AC%EC%A1%B0-%ED%94%BC%EB%B3%B4%EB%82%98%EC%B9%98-%EC%88%98%EC%97%B4%EC%9D%98-%EC%8B%9C%EA%B0%84-%EB%B3%B5%EC%9E%A1%EB%8F%84-%EC%99%84%EB%B2%BD%ED%9E%88-%EC%9D%B4%ED%95%B4%ED%95%98%EA%B8%B0)\n",
        "\n",
        "## Solution"
      ],
      "metadata": {
        "id": "SBfIECpvjkMD"
      }
    },
    {
      "cell_type": "code",
      "source": [
        "# 기본적인 재귀 (비효율적 - O(2^n))\n",
        "def fib_recursive(n):\n",
        "    if n <= 0:\n",
        "        return 0\n",
        "    elif n == 1:\n",
        "        return 1\n",
        "    return fib_recursive(n - 1) + fib_recursive(n - 2)\n",
        "\n",
        "#  (효율적 - O(n))\n",
        "def fib_recursive2(n, initial_values=[0, 1]):\n",
        "    for i in range (n-1):\n",
        "        initial_values.append(initial_values[-1]+initial_values[-2])\n",
        "    return initial_values[-1]\n",
        "\n",
        "\n",
        "print(\"fib_recursive: \", fib_recursive(10))\n",
        "print(\"fib_recursive2: \", fib_recursive2(10))"
      ],
      "metadata": {
        "colab": {
          "base_uri": "https://localhost:8080/"
        },
        "id": "VRDORBsIjj3O",
        "outputId": "2e3278cc-0f32-4318-ba50-5d1cc46fc3ee"
      },
      "execution_count": null,
      "outputs": [
        {
          "output_type": "stream",
          "name": "stdout",
          "text": [
            "fib_recursive:  55\n",
            "fib_recursive2:  55\n"
          ]
        }
      ]
    },
    {
      "cell_type": "markdown",
      "source": [
        "New Example!!"
      ],
      "metadata": {
        "id": "MwIHJxev9ahE"
      }
    },
    {
      "cell_type": "markdown",
      "source": [
        "Write functions that calculate the sum of all digits of a given number.\n",
        "Approach 1: Using While loop\n",
        "Approach 2: Using Recursive algorithm"
      ],
      "metadata": {
        "id": "cflkUCpQ-a8U"
      }
    },
    {
      "cell_type": "code",
      "source": [
        "#1\n",
        "import time\n",
        "\n",
        "def sum_of_digits_iterative(num):\n",
        "    result = 0\n",
        "    while num > 0:\n",
        "        result += num % 10\n",
        "        num //= 10\n",
        "    return result\n",
        "\n",
        "start_time = time.time()\n",
        "sum_of_digits_iterative(12345)\n",
        "time_iterative = time.time() - start_time\n",
        "\n",
        "print(\"Time for iterative approach:\", round(time_iterative, 4), \"seconds\")\n",
        "\n",
        "#2\n",
        "def sum_of_digits_recursive(num):\n",
        "    if num == 0:\n",
        "        return 0\n",
        "    return num % 10 + sum_of_digits_recursive(num // 10)\n",
        "\n",
        "start_time = time.time()\n",
        "sum_of_digits_recursive(12345)\n",
        "time_recursive = time.time() - start_time\n",
        "\n",
        "print(\"Time for recursive approach:\", round(time_recursive, 4), \"seconds\")"
      ],
      "metadata": {
        "colab": {
          "base_uri": "https://localhost:8080/"
        },
        "id": "3pyS_0Kp9elL",
        "outputId": "cf677d0b-e8d5-4024-c607-096f0e5962ae"
      },
      "execution_count": null,
      "outputs": [
        {
          "output_type": "stream",
          "name": "stdout",
          "text": [
            "Time for iterative approach: 0.0001 seconds\n",
            "Time for recursive approach: 0.0001 seconds\n"
          ]
        }
      ]
    }
  ]
}