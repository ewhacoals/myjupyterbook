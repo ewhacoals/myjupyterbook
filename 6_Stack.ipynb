{
  "nbformat": 4,
  "nbformat_minor": 0,
  "metadata": {
    "colab": {
      "provenance": []
    },
    "kernelspec": {
      "name": "python3",
      "display_name": "Python 3"
    },
    "language_info": {
      "name": "python"
    }
  },
  "cells": [
    {
      "cell_type": "markdown",
      "source": [
        "# 6_Stack"
      ],
      "metadata": {
        "id": "cr4pQsuZWKuJ"
      }
    },
    {
      "cell_type": "markdown",
      "source": [
        "## Modify sys.path to Import External Modules"
      ],
      "metadata": {
        "id": "k-sTHlVBhDYd"
      }
    },
    {
      "cell_type": "code",
      "source": [
        "import sys\n",
        "sys.path.append(\"C:/Users/안채민/Desktop/Jupyter_Book/template_jupyterbook\")"
      ],
      "metadata": {
        "id": "kmVGyNeRhDQ3"
      },
      "execution_count": null,
      "outputs": []
    },
    {
      "cell_type": "markdown",
      "source": [
        "# Stack"
      ],
      "metadata": {
        "id": "xdk3VFdnKYAz"
      }
    },
    {
      "cell_type": "markdown",
      "source": [
        "## Import the ListStack class from the ListStack.py file"
      ],
      "metadata": {
        "id": "hFrqK5fC550O"
      }
    },
    {
      "cell_type": "code",
      "source": [
        "# Import the ListStack class from the ListNode.py file\n",
        "from ListStack import *\n",
        "stack = ListStack()\n",
        "stack.push(100); stack.push(200); stack.push(300); stack.push(400)\n",
        "stack.printStack()\n",
        "print(\"Top after pushes: \", stack.top())\n",
        "print(\"Remove an element from top: \", stack.pop())\n",
        "stack.printStack()\n",
        "print('Is the stack empty?', stack.isEmpty())\n",
        "print('Number of element in the stack?', stack.size())"
      ],
      "metadata": {
        "colab": {
          "base_uri": "https://localhost:8080/"
        },
        "id": "FiusF9GQ55iB",
        "outputId": "f4d98413-9e5a-4df0-904b-15aa05cf60d2"
      },
      "execution_count": null,
      "outputs": [
        {
          "output_type": "stream",
          "name": "stdout",
          "text": [
            "Elements from top to bottom: \n",
            "400 300 200 100 \n",
            "Top after pushes:  400\n",
            "Remove an element from top:  400\n",
            "Elements from top to bottom: \n",
            "300 200 100 \n",
            "Is the stack empty? False\n",
            "Number of element in the stack? 3\n"
          ]
        }
      ]
    },
    {
      "cell_type": "markdown",
      "source": [
        "## Import the LinkedStack class from the LinkedStack.py file"
      ],
      "metadata": {
        "id": "SEfG4X63JIEX"
      }
    },
    {
      "cell_type": "code",
      "source": [
        "# Import the ListNode class from the ListNode.py file\n",
        "from LinkedStack import *\n",
        "stack = LinkedStack()\n",
        "stack.push(100); stack.push(200); stack.push(300); stack.push(400)\n",
        "stack.printStack()\n",
        "print(\"Top after pushes: \", stack.top())\n",
        "print(\"Remove an element from top: \", stack.pop())\n",
        "stack.printStack()\n",
        "print('Is the stack empty?', stack.isEmpty())\n",
        "print('Number of element in the stack?', stack.size())"
      ],
      "metadata": {
        "colab": {
          "base_uri": "https://localhost:8080/"
        },
        "id": "dIwaQ_zTJH1v",
        "outputId": "e4b32828-470d-4f30-87ff-d5765edda5b1"
      },
      "execution_count": null,
      "outputs": [
        {
          "output_type": "stream",
          "name": "stdout",
          "text": [
            "Elements from top to bottom:  400 300 200 100 Top after pushes:  400\n",
            "Remove an element from top:  400\n",
            "Elements from top to bottom:  300 200 100 Is the stack empty? False\n",
            "Number of element in the stack? 3\n"
          ]
        }
      ]
    },
    {
      "cell_type": "markdown",
      "source": [
        "# Exercises!"
      ],
      "metadata": {
        "id": "Vm-KGr9wPYTK"
      }
    },
    {
      "cell_type": "markdown",
      "source": [
        "## Reverse: Stack\n",
        "\n",
        "1. Create a function that reverses the characters in a string using a stack, without modifying the original stack.\n",
        "\n",
        "2. Create a function that reverses a given stack using another stack.\n",
        "This function should modify the original stack.\n",
        "\n",
        "3. Add a second reverse() method to the ListStack class to implement the behavior described in (2)."
      ],
      "metadata": {
        "id": "aCz_Cy1oPa6u"
      }
    },
    {
      "cell_type": "code",
      "source": [
        "class ListStack:\n",
        "\tdef __init__(self):\n",
        "\t\tself.stack = []\n",
        "\n",
        "\tdef push(self, x):\n",
        "\t\tself.stack.append(x)\n",
        "\n",
        "\tdef pop(self):\n",
        "\t\treturn self.stack.pop()\n",
        "\n",
        "\tdef top(self):\n",
        "\t\tif self.isEmpty():\n",
        "\t\t\treturn None\n",
        "\t\telse:\n",
        "\t\t\treturn self.stack[-1]\n",
        "\n",
        "\tdef isEmpty(self) -> bool:\n",
        "\t\treturn len(self.stack) == 0\n",
        "\n",
        "\tdef size(self):\n",
        "\t\treturn len(self.stack)\n",
        "\n",
        "\tdef printStack(self):\n",
        "\t\tprint(\"Elements from top to bottom: \")\n",
        "\t\tfor i in range(len(self.stack)-1, -1, -1):\n",
        "\t\t\tprint(self.stack[i], end = ' ')\n",
        "\t\tprint()\n",
        "\n",
        "\tdef reverse(self):  # 1번\n",
        "\t\tnew_stack=[]\n",
        "\t\tfor i in range(self.size()):\n",
        "\n",
        "\n",
        "\n",
        "stack = ListStack()\n",
        "stack.push(100); stack.push(200); stack.push(300); stack.push(400)\n",
        "\n",
        "stack.reverse()\n",
        "stack.printStack()\n"
      ],
      "metadata": {
        "colab": {
          "base_uri": "https://localhost:8080/"
        },
        "id": "tSZOAgpDPazI",
        "outputId": "01e95e62-9d07-4a62-e38f-b8daa31bb0ee"
      },
      "execution_count": null,
      "outputs": [
        {
          "output_type": "stream",
          "name": "stdout",
          "text": [
            "Elements from top to bottom: \n",
            "400 300 200 100 \n"
          ]
        }
      ]
    },
    {
      "cell_type": "code",
      "source": [
        "class ListStack:\n",
        "    def __init__(self):\n",
        "        self.stack = []\n",
        "\n",
        "    def isEmpty(self):\n",
        "        return len(self.stack) == 0\n",
        "\n",
        "    def push(self, value):\n",
        "        self.stack.append(value)\n",
        "\n",
        "    def pop(self):\n",
        "        if not self.isEmpty():\n",
        "            return self.stack.pop()\n",
        "\n",
        "    def printStack(self):\n",
        "        for item in reversed(self.stack):\n",
        "            print(item)\n",
        "\n",
        "def reverseInPlace(stack): #2번\n",
        "    temp_stack = ListStack()\n",
        "\n",
        "    # Move all elements to temp_stack\n",
        "    while not stack.isEmpty():\n",
        "        temp_stack.push(stack.pop())\n",
        "\n",
        "    # Move back to original stack\n",
        "    while not temp_stack.isEmpty():\n",
        "        stack.push(temp_stack.pop())\n",
        "\n",
        "# Example Usage\n",
        "stack = ListStack()\n",
        "stack.push(100)\n",
        "stack.push(200)\n",
        "stack.push(300)\n",
        "stack.push(400)\n",
        "\n",
        "print(\"Original stack:\")\n",
        "stack.printStack()\n",
        "\n",
        "print(\"\\nReversed (in-place) stack:\")\n",
        "reverseInPlace(stack)\n",
        "stack.printStack()\n"
      ],
      "metadata": {
        "colab": {
          "base_uri": "https://localhost:8080/"
        },
        "id": "OslzmbofUz7R",
        "outputId": "ab585c5f-02e1-4205-f7bc-88c3907bcab2"
      },
      "execution_count": null,
      "outputs": [
        {
          "output_type": "stream",
          "name": "stdout",
          "text": [
            "Original stack:\n",
            "400\n",
            "300\n",
            "200\n",
            "100\n",
            "\n",
            "Reversed (in-place) stack:\n",
            "400\n",
            "300\n",
            "200\n",
            "100\n"
          ]
        }
      ]
    },
    {
      "cell_type": "markdown",
      "source": [
        "New Exercise!!"
      ],
      "metadata": {
        "id": "Hiv_7-_FF8Br"
      }
    },
    {
      "cell_type": "markdown",
      "source": [
        "Write a function evaluateExpression(expression) that evaluates a mathematical expression given as a string using a stack."
      ],
      "metadata": {
        "id": "7oJvMBD3GYyo"
      }
    },
    {
      "cell_type": "code",
      "source": [
        "class ListStack:\n",
        "    def __init__(self):\n",
        "        self.stack = []\n",
        "\n",
        "    def isEmpty(self):\n",
        "        return len(self.stack) == 0\n",
        "\n",
        "    def push(self, value):\n",
        "        self.stack.append(value)\n",
        "\n",
        "    def pop(self):\n",
        "        if not self.isEmpty():\n",
        "            return self.stack.pop()\n",
        "\n",
        "    def peek(self):\n",
        "        if not self.isEmpty():\n",
        "            return self.stack[-1]\n",
        "\n",
        "def evaluateExpression(expression):\n",
        "    operators = ListStack()\n",
        "    values = ListStack()\n",
        "    tokens = expression.split()\n",
        "\n",
        "    def apply_operator(op, b, a):\n",
        "        if op == '+':\n",
        "            return a + b\n",
        "        elif op == '-':\n",
        "            return a - b\n",
        "        elif op == '*':\n",
        "            return a * b\n",
        "        elif op == '/':\n",
        "            return a // b  # Integer division for simplicity\n",
        "\n",
        "    def precedence(op):\n",
        "        if op in ('+', '-'):\n",
        "            return 1\n",
        "        if op in ('*', '/'):\n",
        "            return 2\n",
        "        return 0\n",
        "\n",
        "    for token in tokens:\n",
        "        if token.isdigit():\n",
        "            values.push(int(token))\n",
        "        elif token in \"+-*/\":\n",
        "            while (not operators.isEmpty() and\n",
        "                   precedence(operators.peek()) >= precedence(token)):\n",
        "                op = operators.pop()\n",
        "                b = values.pop()\n",
        "                a = values.pop()\n",
        "                values.push(apply_operator(op, b, a))\n",
        "            operators.push(token)\n",
        "\n",
        "    while not operators.isEmpty():\n",
        "        op = operators.pop()\n",
        "        b = values.pop()\n",
        "        a = values.pop()\n",
        "        values.push(apply_operator(op, b, a))\n",
        "\n",
        "    return values.pop()\n",
        "\n",
        "# Example Usage\n",
        "expression = \"3 + 5 * 2 - 8 / 4\"\n",
        "print(f\"Expression: {expression}\")\n",
        "print(f\"Result: {evaluateExpression(expression)}\")"
      ],
      "metadata": {
        "colab": {
          "base_uri": "https://localhost:8080/"
        },
        "id": "GcnVyeNbF8P7",
        "outputId": "252e631d-0eaf-40c5-ebf5-9b836a4dd545"
      },
      "execution_count": null,
      "outputs": [
        {
          "output_type": "stream",
          "name": "stdout",
          "text": [
            "Expression: 3 + 5 * 2 - 8 / 4\n",
            "Result: 11\n"
          ]
        }
      ]
    },
    {
      "cell_type": "markdown",
      "source": [
        "## Fun Example: in your Python, try the below"
      ],
      "metadata": {
        "id": "F-HpVpjJJstO"
      }
    },
    {
      "cell_type": "code",
      "source": [
        "import webbrowser\n",
        "import time\n",
        "\n",
        "class ListStack:\n",
        "\tdef __init__(self):\n",
        "\t\tself.stack = []\n",
        "\n",
        "\tdef push(self, x):\n",
        "\t\tself.stack.append(x)\n",
        "\n",
        "\tdef pop(self):\n",
        "\t\treturn self.stack.pop()\n",
        "\n",
        "\tdef isEmpty(self):\n",
        "\t\treturn len(self.stack) == 0\n",
        "\n",
        "stack = ListStack()\n",
        "urls = [\"naver.com\", \"daum.net\", \"nate.com\"]\n",
        "\n",
        "for url in urls:\n",
        "\tstack.push(url)\n",
        "\n",
        "while not stack.isEmpty():\n",
        "\turl = stack.pop()\n",
        "\tprint(f\"Opening {url} ...\")\n",
        "\twebbrowser.open('http://' + url)\n",
        "\ttime.sleep(2)\n"
      ],
      "metadata": {
        "id": "UNXlokiiJtRn",
        "colab": {
          "base_uri": "https://localhost:8080/"
        },
        "outputId": "9a8144ad-98e0-487b-c4cd-99cfd9481bc8"
      },
      "execution_count": null,
      "outputs": [
        {
          "output_type": "stream",
          "name": "stdout",
          "text": [
            "Opening nate.com ...\n",
            "Opening daum.net ...\n",
            "Opening naver.com ...\n"
          ]
        }
      ]
    }
  ]
}