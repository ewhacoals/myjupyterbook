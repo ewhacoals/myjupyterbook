{
  "nbformat": 4,
  "nbformat_minor": 0,
  "metadata": {
    "colab": {
      "provenance": []
    },
    "kernelspec": {
      "name": "python3",
      "display_name": "Python 3"
    },
    "language_info": {
      "name": "python"
    }
  },
  "cells": [
    {
      "cell_type": "markdown",
      "source": [
        "# 4_Array"
      ],
      "metadata": {
        "id": "1GyHptjVV6Tr"
      }
    },
    {
      "cell_type": "markdown",
      "source": [
        "## Modify sys.path to Import External Modules"
      ],
      "metadata": {
        "id": "k-sTHlVBhDYd"
      }
    },
    {
      "cell_type": "markdown",
      "source": [],
      "metadata": {
        "id": "ofwQQRxSi9qQ"
      }
    },
    {
      "cell_type": "code",
      "source": [
        "import sys\n",
        "sys.path.append(\"C:/Users/안채민/Desktop/Jupyter_Book/template_jupyterbook\")"
      ],
      "metadata": {
        "id": "kmVGyNeRhDQ3"
      },
      "execution_count": null,
      "outputs": []
    },
    {
      "cell_type": "markdown",
      "source": [
        "# Import Array.py Module"
      ],
      "metadata": {
        "id": "hFrqK5fC550O"
      }
    },
    {
      "cell_type": "code",
      "source": [
        "# Import the Array class from the Array.py file\n",
        "# from Array import *\n",
        "from Array import MyArray\n",
        "\n",
        "# Create an instance of the Array class\n",
        "arr = MyArray([1, 2, 3, 4, 5])\n",
        "\n",
        "# Print the original array\n",
        "print(\"Original array:\", arr.array)\n",
        "\n",
        "# Insert 6 at the last index (after the last element)\n",
        "arr.myInsert(6, len(arr.array))  # Inserts 6 at the end\n",
        "print(\"After insertion:\", arr.array)\n",
        "\n",
        "# Remove element 5 from the array\n",
        "arr.myRemove(5)  # Removes element 5 from the array\n",
        "print(\"After removal:\", arr.array)\n",
        "\n",
        "# Find index for element 3\n",
        "arr.myIndex(3)"
      ],
      "metadata": {
        "id": "FiusF9GQ55iB"
      },
      "execution_count": null,
      "outputs": []
    },
    {
      "cell_type": "markdown",
      "source": [
        "# Example 1: Time Complexity\n",
        "\n",
        "What is the time complexity of access, search, insertion, deletion of array data structure? Explain why.\n"
      ],
      "metadata": {
        "id": "p3b3bDBni-gY"
      }
    },
    {
      "cell_type": "code",
      "source": [
        "import numpy as np\n",
        "\n",
        "class MyArray:\n",
        "    def __init__(self, input_list):\n",
        "        self.array = np.array(input_list, dtype=\"i\")\n",
        "\n",
        "    def myInsert(self, x, i):\n",
        "        new_array = np.empty(len(self.array) + 1, dtype=\"i\")\n",
        "        new_array[:len(self.array)] = self.array\n",
        "        n = len(new_array)\n",
        "\n",
        "        # Shift elements to the right\n",
        "        for idx in range(n - 2, i - 1, -1):\n",
        "            new_array[idx + 1] = new_array[idx]\n",
        "\n",
        "        new_array[i] = x\n",
        "        self.array = new_array  # Update self.array\n",
        "        return self.array\n",
        "\n",
        "    def myIndex(self, x):\n",
        "        n = len(self.array)\n",
        "        for idx in range(n):\n",
        "            if self.array[idx] == x:\n",
        "                return idx\n",
        "        return -1  # If the key is not found\n",
        "\n",
        "    def myDelete(self, i):\n",
        "        n = len(self.array)\n",
        "\n",
        "        # Shift elements to the left\n",
        "        for idx in range(i + 1, n):\n",
        "            self.array[idx - 1] = self.array[idx]\n",
        "\n",
        "        self.array = self.array[:n - 1]  # Update self.array\n",
        "        return self.array\n",
        "\n",
        "    def myRemove(self, x):\n",
        "        i = self.myIndex(x)\n",
        "        if i == -1:\n",
        "            print(\"Element not found.\")\n",
        "            return self.array\n",
        "\n",
        "        print(\"Element found at position:\", i)\n",
        "        self.myDelete(i)\n",
        "        return self.array"
      ],
      "metadata": {
        "id": "9ppWH1oJnAxE"
      },
      "execution_count": null,
      "outputs": []
    },
    {
      "cell_type": "markdown",
      "source": [
        "Access:\n",
        "Best Case: O(1) - Direct index access in constant time.\n",
        "\n",
        "Worst Case: O(1) - Direct index access remains constant.\n",
        "\n",
        "Search:\n",
        "Best Case: O(1) - Target element is the first element.\n",
        "\n",
        "Worst Case: O(n) - Target element is the last element or not found.\n",
        "\n",
        "Insertion:\n",
        "Best Case: O(1) - Insertion at the end with no shifting required.\n",
        "\n",
        "Worst Case: O(n) - Insertion at the beginning or middle, requiring all subsequent elements to be shifted.\n",
        "\n",
        "Deletion:\n",
        "Best Case: O(1) - Deleting the last element with no shifting required.\n",
        "\n",
        "Worst Case: O(n) - Deleting the first or middle element, requiring all subsequent elements to be shifted."
      ],
      "metadata": {
        "id": "S9N1bBq3APRf"
      }
    },
    {
      "cell_type": "markdown",
      "source": [
        "# Example 2\n",
        "\n",
        "Explore and compare the differences between Python lists and array data structures. Use online resources and feel free to utilize generative AI chatbots to aid in your understanding. Consider the following aspects in your exploration:\n",
        "\n",
        "* **Storage structure**: How do Python lists and arrays store data in memory? Are they contiguous or non-contiguous?\n",
        "\n",
        "* **Performance**: How do their performance characteristics differ for various operations such as indexing, insertion, and deletion?\n",
        "\n",
        "* **Type of elements**: Are Python lists and arrays restricted to a single data type, or can they store elements of mixed types? How does this affect performance?\n",
        "\n",
        "* **Dynamic vs Static**: How do Python lists (dynamic arrays) and static arrays differ in terms of resizing and memory allocation?\n",
        "\n",
        "* **Access and manipulation**: How do access and manipulation operations differ between Python lists and arrays?\n"
      ],
      "metadata": {
        "id": "BiqXuIWY_kwM"
      }
    },
    {
      "cell_type": "code",
      "source": [
        "import numpy as np\n",
        "arr=MyArray([1,2,3,4,5])\n",
        "python_list=[1,3,'hi','data','struchure']\n",
        "python_list.append([3,5,10,15,20])\n",
        "print(python_list)"
      ],
      "metadata": {
        "id": "SFS0ebkT_knM"
      },
      "execution_count": null,
      "outputs": []
    },
    {
      "cell_type": "markdown",
      "source": [
        "First, in terms of memory storage, Python lists are non-contiguous, storing references to objects, while NumPy arrays store data in contiguous memory blocks. This allows NumPy to be faster and more efficient, especially for numerical operations.\n",
        "Second, regarding performance, both support O(1) indexing, but NumPy arrays significantly outperform lists in operations like addition, multiplication, and slicing, thanks to vectorization and internal C optimizations.\n",
        "Third, about data types, Python lists can store mixed types, making them flexible but slower. On the other hand, NumPy arrays require a single data type, which boosts speed and memory efficiency.\n",
        "Fourth, Python lists are dynamic, meaning they can grow or shrink easily. NumPy arrays are more static, so resizing requires creating a new array.\n",
        "Lastly, when it comes to access and manipulation, Python lists rely on loops, whereas NumPy arrays support element-wise operations without explicit iteration.\n"
      ],
      "metadata": {
        "id": "Oj16aUOBc1H0"
      }
    },
    {
      "cell_type": "markdown",
      "source": [
        "\n",
        "# Example 3\n",
        "\n",
        "Create a function that output unique elements in a given array. Unique means distinct elements. What is the time complexity of the algorithm?\n"
      ],
      "metadata": {
        "id": "xyX0RlbqAQqA"
      }
    },
    {
      "cell_type": "code",
      "source": [
        "def unique(arr):\n",
        "    result = []\n",
        "    seen = {}\n",
        "\n",
        "    for i in arr: #o(n)\n",
        "        if i not in seen: #n*o(1)-->o(n)\n",
        "            result.append(i) #o(1)\n",
        "            seen[i] = True #o(1)\n",
        "\n",
        "    return result\n",
        "\n",
        "a = [1, 2, 2, 3, 4, 5, 5, 6, 7, 7]\n",
        "print(unique(a))\n",
        "#시복 총 o(n^2)"
      ],
      "metadata": {
        "id": "P0NSbGtdnrSm",
        "colab": {
          "base_uri": "https://localhost:8080/"
        },
        "outputId": "c9d7f355-d000-4be9-9fe4-8dd1cdb8021d"
      },
      "execution_count": null,
      "outputs": [
        {
          "output_type": "stream",
          "name": "stdout",
          "text": [
            "[1, 2, 3, 4, 5, 6, 7]\n"
          ]
        }
      ]
    },
    {
      "cell_type": "markdown",
      "source": [
        "# Example 4\n",
        "\n",
        "Create a function that returns how many number of elements are odd and even elements in the array.\n"
      ],
      "metadata": {
        "id": "tuQ1MsZFg9Zv"
      }
    },
    {
      "cell_type": "code",
      "source": [
        "def EvenOdd(arr):\n",
        "    even_count = 0\n",
        "    odd_count = 0\n",
        "\n",
        "    for i in arr:\n",
        "        if i % 2 == 0:\n",
        "            even_count += 1\n",
        "        else:\n",
        "            odd_count += 1\n",
        "\n",
        "    print(f\"Number of even/odd numbers={even_count}/{odd_count}\")\n",
        "\n",
        "a = [1, 2, 2, 3, 4, 5, 5, 6, 7, 7]\n",
        "EvenOdd(a)"
      ],
      "metadata": {
        "id": "CjEEiGleg9Cz",
        "colab": {
          "base_uri": "https://localhost:8080/"
        },
        "outputId": "207eea10-b0a6-488a-ad54-202a358e1aae"
      },
      "execution_count": null,
      "outputs": [
        {
          "output_type": "stream",
          "name": "stdout",
          "text": [
            "Number of even/odd numbers=4/6\n"
          ]
        }
      ]
    },
    {
      "cell_type": "markdown",
      "source": [
        "New Example!!"
      ],
      "metadata": {
        "id": "iYH6JEhEAvyw"
      }
    },
    {
      "cell_type": "markdown",
      "source": [
        "Write a function count_occurrences(arr) that takes a list of integers and returns a dictionary with each unique element as the key and its occurrence count as the value. And What is the time complexity of the algorithm?\n",
        "\n"
      ],
      "metadata": {
        "id": "6Ko1d5W0AkZZ"
      }
    },
    {
      "cell_type": "code",
      "source": [
        "def count_occurrences(arr):\n",
        "    result = {}\n",
        "\n",
        "    for i in arr:  # O(n)\n",
        "        if i in result:  # O(1)\n",
        "            result[i] += 1  # O(1)\n",
        "        else:\n",
        "            result[i] = 1  # O(1)\n",
        "\n",
        "    return result\n",
        "\n",
        "a = [1, 2, 2, 3, 3, 3, 4, 4, 4, 4]\n",
        "print(count_occurrences(a))\n",
        "##total time complexity ==O(n)."
      ],
      "metadata": {
        "id": "w79rY8TpAkLM"
      },
      "execution_count": null,
      "outputs": []
    }
  ]
}