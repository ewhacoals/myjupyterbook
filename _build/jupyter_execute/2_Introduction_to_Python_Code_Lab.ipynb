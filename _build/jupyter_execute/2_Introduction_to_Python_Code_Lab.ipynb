{
 "cells": [
  {
   "cell_type": "markdown",
   "metadata": {
    "id": "5vW_ps6ZqZVe"
   },
   "source": [
    "# Set Up"
   ]
  },
  {
   "cell_type": "markdown",
   "metadata": {
    "id": "axhnjGX3kP8m"
   },
   "source": [
    "## Link Google Drive to Google Colab"
   ]
  },
  {
   "cell_type": "code",
   "execution_count": 1,
   "metadata": {
    "colab": {
     "base_uri": "https://localhost:8080/"
    },
    "executionInfo": {
     "elapsed": 1288,
     "status": "ok",
     "timestamp": 1741601306533,
     "user": {
      "displayName": "Ewha Biostat",
      "userId": "08955403781798893820"
     },
     "user_tz": -540
    },
    "id": "39UxiFashW_R",
    "outputId": "5edefc83-0d95-433c-c619-158e1a1e2fc5"
   },
   "outputs": [
    {
     "ename": "ModuleNotFoundError",
     "evalue": "No module named 'google.colab'",
     "output_type": "error",
     "traceback": [
      "\u001b[1;31m---------------------------------------------------------------------------\u001b[0m",
      "\u001b[1;31mModuleNotFoundError\u001b[0m                       Traceback (most recent call last)",
      "Cell \u001b[1;32mIn[1], line 1\u001b[0m\n\u001b[1;32m----> 1\u001b[0m \u001b[38;5;28;01mfrom\u001b[39;00m \u001b[38;5;21;01mgoogle\u001b[39;00m\u001b[38;5;21;01m.\u001b[39;00m\u001b[38;5;21;01mcolab\u001b[39;00m \u001b[38;5;28;01mimport\u001b[39;00m drive\n\u001b[0;32m      2\u001b[0m drive\u001b[38;5;241m.\u001b[39mmount(\u001b[38;5;124m'\u001b[39m\u001b[38;5;124m/content/drive\u001b[39m\u001b[38;5;124m'\u001b[39m)\n",
      "\u001b[1;31mModuleNotFoundError\u001b[0m: No module named 'google.colab'"
     ]
    }
   ],
   "source": [
    "from google.colab import drive\n",
    "drive.mount('/content/drive')"
   ]
  },
  {
   "cell_type": "markdown",
   "metadata": {
    "id": "k-sTHlVBhDYd"
   },
   "source": [
    "## Modify sys.path to Import External Modules"
   ]
  },
  {
   "cell_type": "markdown",
   "metadata": {
    "id": "ofwQQRxSi9qQ"
   },
   "source": []
  },
  {
   "cell_type": "code",
   "execution_count": null,
   "metadata": {
    "id": "kmVGyNeRhDQ3"
   },
   "outputs": [],
   "source": [
    "import sys\n",
    "sys.path.append(\"/content/drive/MyDrive/2025_Teaching/2025_Data_Structures/Code\")"
   ]
  },
  {
   "cell_type": "markdown",
   "metadata": {
    "id": "p3b3bDBni-gY"
   },
   "source": [
    "# Module and Package"
   ]
  },
  {
   "cell_type": "code",
   "execution_count": null,
   "metadata": {
    "id": "9ppWH1oJnAxE"
   },
   "outputs": [],
   "source": [
    "# List\n",
    "my_list = [1, 2, 3, 4, 5]\n",
    "my_list[3]"
   ]
  },
  {
   "cell_type": "markdown",
   "metadata": {
    "id": "P7nEIrGInrC2"
   },
   "source": [
    "## Module\n",
    "\n"
   ]
  },
  {
   "cell_type": "code",
   "execution_count": null,
   "metadata": {
    "colab": {
     "base_uri": "https://localhost:8080/"
    },
    "executionInfo": {
     "elapsed": 541,
     "status": "ok",
     "timestamp": 1741601606648,
     "user": {
      "displayName": "Ewha Biostat",
      "userId": "08955403781798893820"
     },
     "user_tz": -540
    },
    "id": "P0NSbGtdnrSm",
    "outputId": "59224c39-ff15-4b29-d468-e26ba9b46067"
   },
   "outputs": [
    {
     "name": "stdout",
     "output_type": "stream",
     "text": [
      "Original array: [1 2 3 4 5]\n",
      "After insertion: [1 2 3 4 5 6]\n",
      "Element found at position: 4\n",
      "After removal: [1 2 3 4 6]\n"
     ]
    },
    {
     "data": {
      "text/plain": [
       "2"
      ]
     },
     "execution_count": 3,
     "metadata": {},
     "output_type": "execute_result"
    }
   ],
   "source": [
    "# Import the Array class from the Array.py file\n",
    "# from Array import *\n",
    "from Array import MyArray\n",
    "\n",
    "# Create an instance of the Array class\n",
    "arr = MyArray([1, 2, 3, 4, 5])\n",
    "\n",
    "# Print the original array\n",
    "print(\"Original array:\", arr.array)\n",
    "\n",
    "# Insert 6 at the last index (after the last element)\n",
    "arr.myInsert(6, len(arr.array))  # Inserts 6 at the end\n",
    "print(\"After insertion:\", arr.array)\n",
    "\n",
    "# Remove element 5 from the array\n",
    "arr.myRemove(5)  # Removes element 5 from the array\n",
    "print(\"After removal:\", arr.array)\n",
    "\n",
    "# Find index for element 3\n",
    "arr.myIndex(3)"
   ]
  },
  {
   "cell_type": "markdown",
   "metadata": {
    "id": "tuQ1MsZFg9Zv"
   },
   "source": [
    "## Package\n",
    "\n",
    "1. Create `DataStructureCode/` folder.\n",
    "2. Then, create an empty `__init__.py` file inside the `DataStructureCode/` folder. This file is required for the folder to be recognized as a package.\n",
    "3. Copy and paste `Array.py` file inside of `DataStructureCode/` folder."
   ]
  },
  {
   "cell_type": "code",
   "execution_count": null,
   "metadata": {
    "colab": {
     "base_uri": "https://localhost:8080/"
    },
    "executionInfo": {
     "elapsed": 43,
     "status": "ok",
     "timestamp": 1741601608574,
     "user": {
      "displayName": "Ewha Biostat",
      "userId": "08955403781798893820"
     },
     "user_tz": -540
    },
    "id": "CjEEiGleg9Cz",
    "outputId": "fad713b2-2a3c-4cab-e927-0ad6dd953889"
   },
   "outputs": [
    {
     "name": "stdout",
     "output_type": "stream",
     "text": [
      "Original array: [1 2 3 4 5]\n"
     ]
    }
   ],
   "source": [
    "from DataStructureCode.Array import MyArray\n",
    "\n",
    "arr = MyArray([1, 2, 3, 4, 5])\n",
    "print(\"Original array:\", arr.array)"
   ]
  },
  {
   "cell_type": "markdown",
   "metadata": {
    "id": "kDHkYgdXjDxa"
   },
   "source": [
    "# Exercise"
   ]
  },
  {
   "cell_type": "code",
   "execution_count": null,
   "metadata": {
    "colab": {
     "base_uri": "https://localhost:8080/"
    },
    "executionInfo": {
     "elapsed": 5,
     "status": "ok",
     "timestamp": 1741603612919,
     "user": {
      "displayName": "Ewha Biostat",
      "userId": "08955403781798893820"
     },
     "user_tz": -540
    },
    "id": "MiSY2Nv0nCsd",
    "outputId": "b4ff771b-3b06-460e-c035-712b65632271"
   },
   "outputs": [
    {
     "name": "stdout",
     "output_type": "stream",
     "text": [
      "2025-03-10\n",
      "1\n",
      "[{'date': '2025-03-10', 'status': 1}]\n",
      "[{'date': '2025-03-10', 'status': 1}, {'date': '2025-03-15', 'status': 0}]\n"
     ]
    }
   ],
   "source": [
    "# Dictionary\n",
    "attendance = {\"date\": \"2025-03-10\", \"status\": 1}\n",
    "print(attendance[\"date\"])\n",
    "print(attendance[\"status\"])\n",
    "\n",
    "my_attendance = []\n",
    "my_attendance.append(attendance)\n",
    "print(my_attendance)\n",
    "my_attendance.append({\"date\": \"2025-03-15\", \"status\": 0})\n",
    "print(my_attendance)"
   ]
  },
  {
   "cell_type": "code",
   "execution_count": null,
   "metadata": {
    "colab": {
     "base_uri": "https://localhost:8080/"
    },
    "executionInfo": {
     "elapsed": 5,
     "status": "ok",
     "timestamp": 1741603100149,
     "user": {
      "displayName": "Ewha Biostat",
      "userId": "08955403781798893820"
     },
     "user_tz": -540
    },
    "id": "DTflPY-3jhby",
    "outputId": "e58a191d-845d-4705-ecc7-55e8d9775d7c"
   },
   "outputs": [
    {
     "name": "stdout",
     "output_type": "stream",
     "text": [
      "ID= 123456 , Name =  Ewha Kim , Department =  AI , Attendance =  {'date': '2025-03-10', 'status': 1}\n",
      "ID 123456\n"
     ]
    }
   ],
   "source": [
    "class Attendance:\n",
    "  def __init__(self, id, name, department,attendance):\n",
    "    self.id = id\n",
    "    self.name = name\n",
    "    self.department = department\n",
    "    self.attendance = attendance\n",
    "person1 = Attendance(123456,\"Ewha Kim\",\"AI\",my_attendance)\n",
    "print(\"ID=\", person1.id, \", Name = \",person1.name, \", Department = \", person1.department,\", Attendance = \",person1.attendance)"
   ]
  },
  {
   "cell_type": "markdown",
   "metadata": {
    "id": "zOSBiva5qKC_"
   },
   "source": [
    "1. Add a method `mark_attendance(date, status)` that allows the recording of attendance for a particular date. The status should be either: `1` for present and `0` for absent.\n",
    "\n",
    "2. Add a method `view_attendance()` that prints out the attendance record for the student. The output should display each entry with the date and the attendance status (Present/Absent).\n",
    "\n",
    "3. Add a method `update_attendance(date, status)` that updates the attendance record for a specific date. If the given date is not found in the records, return a message indicating that the date is not found.\n"
   ]
  },
  {
   "cell_type": "code",
   "execution_count": null,
   "metadata": {
    "colab": {
     "base_uri": "https://localhost:8080/"
    },
    "executionInfo": {
     "elapsed": 12,
     "status": "ok",
     "timestamp": 1741603463209,
     "user": {
      "displayName": "Ewha Biostat",
      "userId": "08955403781798893820"
     },
     "user_tz": -540
    },
    "id": "PkPn8A91ksse",
    "outputId": "4a8cfc8a-311f-4ae8-a731-b4fc5f123bf4"
   },
   "outputs": [
    {
     "name": "stdout",
     "output_type": "stream",
     "text": [
      "Attendance updated for Ewha Kim on 2025-03-10\n",
      "None\n",
      "Attendance record for  Ewha Kim :\n",
      "Date:  2025-03-10 , Status Absent\n",
      "Date:  2025-03-11 , Status Absent\n",
      "Date:  2025-03-15 , Status Present\n"
     ]
    }
   ],
   "source": []
  }
 ],
 "metadata": {
  "colab": {
   "authorship_tag": "ABX9TyO8EjaT7S3SVYkY/PDysD5d",
   "provenance": [],
   "toc_visible": true
  },
  "kernelspec": {
   "display_name": "Python 3",
   "name": "python3"
  },
  "language_info": {
   "codemirror_mode": {
    "name": "ipython",
    "version": 3
   },
   "file_extension": ".py",
   "mimetype": "text/x-python",
   "name": "python",
   "nbconvert_exporter": "python",
   "pygments_lexer": "ipython3",
   "version": "3.12.4"
  }
 },
 "nbformat": 4,
 "nbformat_minor": 0
}