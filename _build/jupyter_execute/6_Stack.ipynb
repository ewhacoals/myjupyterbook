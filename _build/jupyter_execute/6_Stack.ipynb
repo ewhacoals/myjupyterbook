{
 "cells": [
  {
   "cell_type": "markdown",
   "metadata": {
    "id": "cr4pQsuZWKuJ"
   },
   "source": [
    "# 6_Stack"
   ]
  },
  {
   "cell_type": "markdown",
   "metadata": {
    "id": "k-sTHlVBhDYd"
   },
   "source": [
    "## Modify sys.path to Import External Modules"
   ]
  },
  {
   "cell_type": "code",
   "execution_count": 1,
   "metadata": {
    "id": "kmVGyNeRhDQ3"
   },
   "outputs": [],
   "source": [
    "import sys\n",
    "sys.path.append(\"C:/Users/안채민/Desktop/Jupyter_Book/template_jupyterbook\")"
   ]
  },
  {
   "cell_type": "markdown",
   "metadata": {
    "id": "xdk3VFdnKYAz"
   },
   "source": [
    "# Stack"
   ]
  },
  {
   "cell_type": "markdown",
   "metadata": {
    "id": "hFrqK5fC550O"
   },
   "source": [
    "## Import the ListStack class from the ListStack.py file"
   ]
  },
  {
   "cell_type": "code",
   "execution_count": 2,
   "metadata": {
    "colab": {
     "base_uri": "https://localhost:8080/"
    },
    "id": "FiusF9GQ55iB",
    "outputId": "f4d98413-9e5a-4df0-904b-15aa05cf60d2"
   },
   "outputs": [
    {
     "name": "stdout",
     "output_type": "stream",
     "text": [
      "Elements from top to bottom: \n",
      "400 300 200 100 \n",
      "Top after pushes:  400\n",
      "Remove an element from top:  400\n",
      "Elements from top to bottom: \n",
      "300 200 100 \n",
      "Is the stack empty? False\n",
      "Number of element in the stack? 3\n"
     ]
    }
   ],
   "source": [
    "# Import the ListStack class from the ListNode.py file\n",
    "from ListStack import *\n",
    "stack = ListStack()\n",
    "stack.push(100); stack.push(200); stack.push(300); stack.push(400)\n",
    "stack.printStack()\n",
    "print(\"Top after pushes: \", stack.top())\n",
    "print(\"Remove an element from top: \", stack.pop())\n",
    "stack.printStack()\n",
    "print('Is the stack empty?', stack.isEmpty())\n",
    "print('Number of element in the stack?', stack.size())"
   ]
  },
  {
   "cell_type": "markdown",
   "metadata": {
    "id": "SEfG4X63JIEX"
   },
   "source": [
    "## Import the LinkedStack class from the LinkedStack.py file"
   ]
  },
  {
   "cell_type": "code",
   "execution_count": 3,
   "metadata": {
    "colab": {
     "base_uri": "https://localhost:8080/"
    },
    "id": "dIwaQ_zTJH1v",
    "outputId": "e4b32828-470d-4f30-87ff-d5765edda5b1"
   },
   "outputs": [
    {
     "name": "stdout",
     "output_type": "stream",
     "text": [
      "Elements from top to bottom:  400 300 200 100 Top after pushes:  400\n",
      "Remove an element from top:  400\n",
      "Elements from top to bottom:  300 200 100 Is the stack empty? False\n",
      "Number of element in the stack? 3\n"
     ]
    }
   ],
   "source": [
    "# Import the ListNode class from the ListNode.py file\n",
    "from LinkedStack import *\n",
    "stack = LinkedStack()\n",
    "stack.push(100); stack.push(200); stack.push(300); stack.push(400)\n",
    "stack.printStack()\n",
    "print(\"Top after pushes: \", stack.top())\n",
    "print(\"Remove an element from top: \", stack.pop())\n",
    "stack.printStack()\n",
    "print('Is the stack empty?', stack.isEmpty())\n",
    "print('Number of element in the stack?', stack.size())"
   ]
  },
  {
   "cell_type": "markdown",
   "metadata": {
    "id": "Vm-KGr9wPYTK"
   },
   "source": [
    "# Exercises!"
   ]
  },
  {
   "cell_type": "markdown",
   "metadata": {
    "id": "aCz_Cy1oPa6u"
   },
   "source": [
    "## Reverse: Stack\n",
    "\n",
    "1. Create a function that reverses the characters in a string using a stack, without modifying the original stack.\n",
    "\n",
    "2. Create a function that reverses a given stack using another stack.\n",
    "This function should modify the original stack.\n",
    "\n",
    "3. Add a second reverse() method to the ListStack class to implement the behavior described in (2)."
   ]
  },
  {
   "cell_type": "code",
   "execution_count": 4,
   "metadata": {
    "colab": {
     "base_uri": "https://localhost:8080/"
    },
    "id": "tSZOAgpDPazI",
    "outputId": "01e95e62-9d07-4a62-e38f-b8daa31bb0ee"
   },
   "outputs": [
    {
     "ename": "IndentationError",
     "evalue": "expected an indented block after 'for' statement on line 31 (4094421196.py, line 35)",
     "output_type": "error",
     "traceback": [
      "\u001b[1;36m  Cell \u001b[1;32mIn[4], line 35\u001b[1;36m\u001b[0m\n\u001b[1;33m    stack = ListStack()\u001b[0m\n\u001b[1;37m                       ^\u001b[0m\n\u001b[1;31mIndentationError\u001b[0m\u001b[1;31m:\u001b[0m expected an indented block after 'for' statement on line 31\n"
     ]
    }
   ],
   "source": [
    "class ListStack:\n",
    "\tdef __init__(self):\n",
    "\t\tself.stack = []\n",
    "\n",
    "\tdef push(self, x):\n",
    "\t\tself.stack.append(x)\n",
    "\n",
    "\tdef pop(self):\n",
    "\t\treturn self.stack.pop()\n",
    "\n",
    "\tdef top(self):\n",
    "\t\tif self.isEmpty():\n",
    "\t\t\treturn None\n",
    "\t\telse:\n",
    "\t\t\treturn self.stack[-1]\n",
    "\n",
    "\tdef isEmpty(self) -> bool:\n",
    "\t\treturn len(self.stack) == 0\n",
    "\n",
    "\tdef size(self):\n",
    "\t\treturn len(self.stack)\n",
    "\n",
    "\tdef printStack(self):\n",
    "\t\tprint(\"Elements from top to bottom: \")\n",
    "\t\tfor i in range(len(self.stack)-1, -1, -1):\n",
    "\t\t\tprint(self.stack[i], end = ' ')\n",
    "\t\tprint()\n",
    "\n",
    "\tdef reverse(self):  # 1번\n",
    "\t\tnew_stack=[]\n",
    "\t\tfor i in range(self.size()):\n",
    "\n",
    "\n",
    "\n",
    "stack = ListStack()\n",
    "stack.push(100); stack.push(200); stack.push(300); stack.push(400)\n",
    "\n",
    "stack.reverse()\n",
    "stack.printStack()\n"
   ]
  },
  {
   "cell_type": "code",
   "execution_count": null,
   "metadata": {
    "colab": {
     "base_uri": "https://localhost:8080/"
    },
    "id": "OslzmbofUz7R",
    "outputId": "ab585c5f-02e1-4205-f7bc-88c3907bcab2"
   },
   "outputs": [
    {
     "name": "stdout",
     "output_type": "stream",
     "text": [
      "Original stack:\n",
      "400\n",
      "300\n",
      "200\n",
      "100\n",
      "\n",
      "Reversed (in-place) stack:\n",
      "400\n",
      "300\n",
      "200\n",
      "100\n"
     ]
    }
   ],
   "source": [
    "class ListStack:\n",
    "    def __init__(self):\n",
    "        self.stack = []\n",
    "\n",
    "    def isEmpty(self):\n",
    "        return len(self.stack) == 0\n",
    "\n",
    "    def push(self, value):\n",
    "        self.stack.append(value)\n",
    "\n",
    "    def pop(self):\n",
    "        if not self.isEmpty():\n",
    "            return self.stack.pop()\n",
    "\n",
    "    def printStack(self):\n",
    "        for item in reversed(self.stack):\n",
    "            print(item)\n",
    "\n",
    "def reverseInPlace(stack): #2번\n",
    "    temp_stack = ListStack()\n",
    "\n",
    "    # Move all elements to temp_stack\n",
    "    while not stack.isEmpty():\n",
    "        temp_stack.push(stack.pop())\n",
    "\n",
    "    # Move back to original stack\n",
    "    while not temp_stack.isEmpty():\n",
    "        stack.push(temp_stack.pop())\n",
    "\n",
    "# Example Usage\n",
    "stack = ListStack()\n",
    "stack.push(100)\n",
    "stack.push(200)\n",
    "stack.push(300)\n",
    "stack.push(400)\n",
    "\n",
    "print(\"Original stack:\")\n",
    "stack.printStack()\n",
    "\n",
    "print(\"\\nReversed (in-place) stack:\")\n",
    "reverseInPlace(stack)\n",
    "stack.printStack()\n"
   ]
  },
  {
   "cell_type": "markdown",
   "metadata": {
    "id": "Hiv_7-_FF8Br"
   },
   "source": [
    "New Exercise!!"
   ]
  },
  {
   "cell_type": "markdown",
   "metadata": {
    "id": "7oJvMBD3GYyo"
   },
   "source": [
    "Write a function evaluateExpression(expression) that evaluates a mathematical expression given as a string using a stack."
   ]
  },
  {
   "cell_type": "code",
   "execution_count": null,
   "metadata": {
    "colab": {
     "base_uri": "https://localhost:8080/"
    },
    "id": "GcnVyeNbF8P7",
    "outputId": "252e631d-0eaf-40c5-ebf5-9b836a4dd545"
   },
   "outputs": [
    {
     "name": "stdout",
     "output_type": "stream",
     "text": [
      "Expression: 3 + 5 * 2 - 8 / 4\n",
      "Result: 11\n"
     ]
    }
   ],
   "source": [
    "class ListStack:\n",
    "    def __init__(self):\n",
    "        self.stack = []\n",
    "\n",
    "    def isEmpty(self):\n",
    "        return len(self.stack) == 0\n",
    "\n",
    "    def push(self, value):\n",
    "        self.stack.append(value)\n",
    "\n",
    "    def pop(self):\n",
    "        if not self.isEmpty():\n",
    "            return self.stack.pop()\n",
    "\n",
    "    def peek(self):\n",
    "        if not self.isEmpty():\n",
    "            return self.stack[-1]\n",
    "\n",
    "def evaluateExpression(expression):\n",
    "    operators = ListStack()\n",
    "    values = ListStack()\n",
    "    tokens = expression.split()\n",
    "\n",
    "    def apply_operator(op, b, a):\n",
    "        if op == '+':\n",
    "            return a + b\n",
    "        elif op == '-':\n",
    "            return a - b\n",
    "        elif op == '*':\n",
    "            return a * b\n",
    "        elif op == '/':\n",
    "            return a // b  # Integer division for simplicity\n",
    "\n",
    "    def precedence(op):\n",
    "        if op in ('+', '-'):\n",
    "            return 1\n",
    "        if op in ('*', '/'):\n",
    "            return 2\n",
    "        return 0\n",
    "\n",
    "    for token in tokens:\n",
    "        if token.isdigit():\n",
    "            values.push(int(token))\n",
    "        elif token in \"+-*/\":\n",
    "            while (not operators.isEmpty() and\n",
    "                   precedence(operators.peek()) >= precedence(token)):\n",
    "                op = operators.pop()\n",
    "                b = values.pop()\n",
    "                a = values.pop()\n",
    "                values.push(apply_operator(op, b, a))\n",
    "            operators.push(token)\n",
    "\n",
    "    while not operators.isEmpty():\n",
    "        op = operators.pop()\n",
    "        b = values.pop()\n",
    "        a = values.pop()\n",
    "        values.push(apply_operator(op, b, a))\n",
    "\n",
    "    return values.pop()\n",
    "\n",
    "# Example Usage\n",
    "expression = \"3 + 5 * 2 - 8 / 4\"\n",
    "print(f\"Expression: {expression}\")\n",
    "print(f\"Result: {evaluateExpression(expression)}\")"
   ]
  },
  {
   "cell_type": "markdown",
   "metadata": {
    "id": "F-HpVpjJJstO"
   },
   "source": [
    "## Fun Example: in your Python, try the below"
   ]
  },
  {
   "cell_type": "code",
   "execution_count": null,
   "metadata": {
    "colab": {
     "base_uri": "https://localhost:8080/"
    },
    "id": "UNXlokiiJtRn",
    "outputId": "9a8144ad-98e0-487b-c4cd-99cfd9481bc8"
   },
   "outputs": [
    {
     "name": "stdout",
     "output_type": "stream",
     "text": [
      "Opening nate.com ...\n",
      "Opening daum.net ...\n",
      "Opening naver.com ...\n"
     ]
    }
   ],
   "source": [
    "import webbrowser\n",
    "import time\n",
    "\n",
    "class ListStack:\n",
    "\tdef __init__(self):\n",
    "\t\tself.stack = []\n",
    "\n",
    "\tdef push(self, x):\n",
    "\t\tself.stack.append(x)\n",
    "\n",
    "\tdef pop(self):\n",
    "\t\treturn self.stack.pop()\n",
    "\n",
    "\tdef isEmpty(self):\n",
    "\t\treturn len(self.stack) == 0\n",
    "\n",
    "stack = ListStack()\n",
    "urls = [\"naver.com\", \"daum.net\", \"nate.com\"]\n",
    "\n",
    "for url in urls:\n",
    "\tstack.push(url)\n",
    "\n",
    "while not stack.isEmpty():\n",
    "\turl = stack.pop()\n",
    "\tprint(f\"Opening {url} ...\")\n",
    "\twebbrowser.open('http://' + url)\n",
    "\ttime.sleep(2)\n"
   ]
  }
 ],
 "metadata": {
  "colab": {
   "provenance": []
  },
  "kernelspec": {
   "display_name": "Python 3",
   "name": "python3"
  },
  "language_info": {
   "codemirror_mode": {
    "name": "ipython",
    "version": 3
   },
   "file_extension": ".py",
   "mimetype": "text/x-python",
   "name": "python",
   "nbconvert_exporter": "python",
   "pygments_lexer": "ipython3",
   "version": "3.12.4"
  }
 },
 "nbformat": 4,
 "nbformat_minor": 0
}