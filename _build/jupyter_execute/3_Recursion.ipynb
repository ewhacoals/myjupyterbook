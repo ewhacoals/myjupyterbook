{
 "cells": [
  {
   "cell_type": "markdown",
   "metadata": {
    "id": "fcP9PdXmVX2Y"
   },
   "source": [
    "# **3_Recursion**"
   ]
  },
  {
   "cell_type": "markdown",
   "metadata": {
    "id": "k-sTHlVBhDYd"
   },
   "source": [
    "## Modify sys.path to Import External Modules"
   ]
  },
  {
   "cell_type": "markdown",
   "metadata": {
    "id": "ofwQQRxSi9qQ"
   },
   "source": []
  },
  {
   "cell_type": "code",
   "execution_count": 1,
   "metadata": {
    "id": "kmVGyNeRhDQ3"
   },
   "outputs": [
    {
     "ename": "SyntaxError",
     "evalue": "(unicode error) 'unicodeescape' codec can't decode bytes in position 2-3: truncated \\UXXXXXXXX escape (459012398.py, line 2)",
     "output_type": "error",
     "traceback": [
      "\u001b[1;36m  Cell \u001b[1;32mIn[1], line 2\u001b[1;36m\u001b[0m\n\u001b[1;33m    sys.path.append(\"C:\\Users/안채민/Desktop/Jupyter_Book/template_jupyterbook\")\u001b[0m\n\u001b[1;37m                    ^\u001b[0m\n\u001b[1;31mSyntaxError\u001b[0m\u001b[1;31m:\u001b[0m (unicode error) 'unicodeescape' codec can't decode bytes in position 2-3: truncated \\UXXXXXXXX escape\n"
     ]
    }
   ],
   "source": [
    "import sys\n",
    "sys.path.append(\"C:\\Users/안채민/Desktop/Jupyter_Book/template_jupyterbook\")"
   ]
  },
  {
   "cell_type": "markdown",
   "metadata": {
    "id": "p3b3bDBni-gY"
   },
   "source": [
    "# Example 1: Fibonacci\n",
    "\n",
    "In the lecture, we showed the time complexity of the below algorithm for Fibonacci series is $O(2^n)$. In similar way, find Big Omega $\\Omega(\\cdot)$ of this algorithm.\n"
   ]
  },
  {
   "cell_type": "code",
   "execution_count": null,
   "metadata": {
    "id": "9ppWH1oJnAxE"
   },
   "outputs": [],
   "source": [
    "# Recursion\n",
    "def fib_recursive(n):\n",
    "  if n < 0:\n",
    "    print(\"Incorrect input\")\n",
    "  elif n == 0:\n",
    "    return 0\n",
    "  elif n == 1 or n == 2:\n",
    "    return 1\n",
    "  else:\n",
    "    return fib_recursive(n-1)+fib_recursive(n-2)"
   ]
  },
  {
   "cell_type": "markdown",
   "metadata": {
    "id": "SnuFNKgvcvZH"
   },
   "source": [
    "## Solution"
   ]
  },
  {
   "cell_type": "markdown",
   "metadata": {
    "id": "P7nEIrGInrC2"
   },
   "source": [
    "# Example 2: Factorial\n",
    "\n",
    "* Write functions that calculates the factorial of n (i.e., n!)\n",
    "  - Approach 1: Using For loop\n",
    "  - Approach 2: Using Recursive algorithm\n",
    "\n",
    "$$\n",
    "\\begin{align*}\n",
    "n!=\n",
    "\\begin{cases}\n",
    "  1 & \\text{if $n < 1$}\\\\\n",
    "  n*(n-1)! & \\text{if $n \\ge 1$}\n",
    "\\end{cases}    \n",
    "\\end{align*}\n",
    "$$\n",
    "\n",
    "* Time complexity analysis\n",
    "  - Provide comparison of both practical (e.g. for n=600) and theoretical time complexity analysis for each approach\n",
    "\n",
    "## Solution\n",
    "\n"
   ]
  },
  {
   "cell_type": "code",
   "execution_count": null,
   "metadata": {
    "colab": {
     "base_uri": "https://localhost:8080/"
    },
    "id": "P0NSbGtdnrSm",
    "outputId": "7ab31910-e453-4e63-c90b-160a2cbdd127"
   },
   "outputs": [
    {
     "name": "stdout",
     "output_type": "stream",
     "text": [
      "Time for iterative approach: 0.0002 minutes\n",
      "Time for recursive approach: 0.0003 minutes\n"
     ]
    }
   ],
   "source": [
    "import time\n",
    "\n",
    "def factorial_for(num):\n",
    "    result = 1\n",
    "    for num in range(2, num + 1): #o(n)\n",
    "        result *= num\n",
    "    return result\n",
    "\n",
    "def factorial_recursive(num):\n",
    "    if num <= 1:\n",
    "        return 1\n",
    "    return num * factorial_recursive(num - 1) #o(n)*o(1)\n",
    "\n",
    "start_time = time.time()\n",
    "factorial_for(600)\n",
    "time_for = time.time() - start_time\n",
    "\n",
    "start_time = time.time()\n",
    "factorial_recursive(600)\n",
    "time_recursive = time.time() - start_time\n",
    "\n",
    "print(\"Time for iterative approach:\", round(time_for, 4), \"minutes\")\n",
    "print(\"Time for recursive approach:\", round(time_recursive, 4), \"minutes\")"
   ]
  },
  {
   "cell_type": "markdown",
   "metadata": {
    "id": "tuQ1MsZFg9Zv"
   },
   "source": [
    "# Example 3: Gugu-dan\n",
    "\n",
    "We can write an iterative algorithm that prints out a multiplication table (i.e., gugu-dan) as below. Write a recursive algorithm for the gugu-dan. For example, 'Table of 3' should print the following. What is the Big O of the gugu-dan algorithms?\n",
    "\n",
    "## Solution"
   ]
  },
  {
   "cell_type": "code",
   "execution_count": null,
   "metadata": {
    "colab": {
     "base_uri": "https://localhost:8080/"
    },
    "id": "CjEEiGleg9Cz",
    "outputId": "e0abc883-4504-4052-b2a0-29221007d457"
   },
   "outputs": [
    {
     "name": "stdout",
     "output_type": "stream",
     "text": [
      "3 x 1 = 3\n",
      "3 x 2 = 6\n",
      "3 x 3 = 9\n",
      "3 x 4 = 12\n",
      "3 x 5 = 15\n",
      "3 x 6 = 18\n",
      "3 x 7 = 21\n",
      "3 x 8 = 24\n",
      "3 x 9 = 27\n",
      "3 x 1 = 3\n",
      "3 x 2 = 6\n",
      "3 x 3 = 9\n",
      "3 x 4 = 12\n",
      "3 x 5 = 15\n",
      "3 x 6 = 18\n",
      "3 x 7 = 21\n",
      "3 x 8 = 24\n",
      "3 x 9 = 27\n"
     ]
    }
   ],
   "source": [
    "# Iterative\n",
    "def gugu_iterative(dan):\n",
    "    for num in range(1, 10):\n",
    "        print(\"%d x %d = %d\" % (dan, num, dan * num))\n",
    "gugu_iterative(3)\n",
    "\n",
    "def gugu_recursive(dan, num=1):\n",
    "    if num > 9:\n",
    "        return\n",
    "    print(\"%d x %d = %d\" % (dan, num, dan * num))\n",
    "    gugu_recursive(dan, num + 1)\n",
    "gugu_recursive(3)"
   ]
  },
  {
   "cell_type": "markdown",
   "metadata": {
    "id": "SBfIECpvjkMD"
   },
   "source": [
    "# Example 4: Fibonacci O(n)\n",
    "\n",
    "Can you write an algorithm for the Fibonacci series with a time complexity of $O(n)$ instead of $O(2^n)$? For example, Fibonacci sequence up to the 10th term (index 0 to 10) is $[0, 1, 1, 2, 3, 5, 8, 13, 21, 34, 55]$,\n",
    "\n",
    "Hint: [Helpful resource](https://chanos.tistory.com/entry/%EC%9E%90%EB%A3%8C%EA%B5%AC%EC%A1%B0-%ED%94%BC%EB%B3%B4%EB%82%98%EC%B9%98-%EC%88%98%EC%97%B4%EC%9D%98-%EC%8B%9C%EA%B0%84-%EB%B3%B5%EC%9E%A1%EB%8F%84-%EC%99%84%EB%B2%BD%ED%9E%88-%EC%9D%B4%ED%95%B4%ED%95%98%EA%B8%B0)\n",
    "\n",
    "## Solution"
   ]
  },
  {
   "cell_type": "code",
   "execution_count": null,
   "metadata": {
    "colab": {
     "base_uri": "https://localhost:8080/"
    },
    "id": "VRDORBsIjj3O",
    "outputId": "2e3278cc-0f32-4318-ba50-5d1cc46fc3ee"
   },
   "outputs": [
    {
     "name": "stdout",
     "output_type": "stream",
     "text": [
      "fib_recursive:  55\n",
      "fib_recursive2:  55\n"
     ]
    }
   ],
   "source": [
    "# 기본적인 재귀 (비효율적 - O(2^n))\n",
    "def fib_recursive(n):\n",
    "    if n <= 0:\n",
    "        return 0\n",
    "    elif n == 1:\n",
    "        return 1\n",
    "    return fib_recursive(n - 1) + fib_recursive(n - 2)\n",
    "\n",
    "#  (효율적 - O(n))\n",
    "def fib_recursive2(n, initial_values=[0, 1]):\n",
    "    for i in range (n-1):\n",
    "        initial_values.append(initial_values[-1]+initial_values[-2])\n",
    "    return initial_values[-1]\n",
    "\n",
    "\n",
    "print(\"fib_recursive: \", fib_recursive(10))\n",
    "print(\"fib_recursive2: \", fib_recursive2(10))"
   ]
  },
  {
   "cell_type": "markdown",
   "metadata": {
    "id": "MwIHJxev9ahE"
   },
   "source": [
    "New Example!!"
   ]
  },
  {
   "cell_type": "markdown",
   "metadata": {
    "id": "cflkUCpQ-a8U"
   },
   "source": [
    "Write functions that calculate the sum of all digits of a given number.\n",
    "Approach 1: Using While loop\n",
    "Approach 2: Using Recursive algorithm"
   ]
  },
  {
   "cell_type": "code",
   "execution_count": null,
   "metadata": {
    "colab": {
     "base_uri": "https://localhost:8080/"
    },
    "id": "3pyS_0Kp9elL",
    "outputId": "cf677d0b-e8d5-4024-c607-096f0e5962ae"
   },
   "outputs": [
    {
     "name": "stdout",
     "output_type": "stream",
     "text": [
      "Time for iterative approach: 0.0001 seconds\n",
      "Time for recursive approach: 0.0001 seconds\n"
     ]
    }
   ],
   "source": [
    "#1\n",
    "import time\n",
    "\n",
    "def sum_of_digits_iterative(num):\n",
    "    result = 0\n",
    "    while num > 0:\n",
    "        result += num % 10\n",
    "        num //= 10\n",
    "    return result\n",
    "\n",
    "start_time = time.time()\n",
    "sum_of_digits_iterative(12345)\n",
    "time_iterative = time.time() - start_time\n",
    "\n",
    "print(\"Time for iterative approach:\", round(time_iterative, 4), \"seconds\")\n",
    "\n",
    "#2\n",
    "def sum_of_digits_recursive(num):\n",
    "    if num == 0:\n",
    "        return 0\n",
    "    return num % 10 + sum_of_digits_recursive(num // 10)\n",
    "\n",
    "start_time = time.time()\n",
    "sum_of_digits_recursive(12345)\n",
    "time_recursive = time.time() - start_time\n",
    "\n",
    "print(\"Time for recursive approach:\", round(time_recursive, 4), \"seconds\")"
   ]
  }
 ],
 "metadata": {
  "colab": {
   "provenance": []
  },
  "kernelspec": {
   "display_name": "Python 3",
   "name": "python3"
  },
  "language_info": {
   "codemirror_mode": {
    "name": "ipython",
    "version": 3
   },
   "file_extension": ".py",
   "mimetype": "text/x-python",
   "name": "python",
   "nbconvert_exporter": "python",
   "pygments_lexer": "ipython3",
   "version": "3.12.4"
  }
 },
 "nbformat": 4,
 "nbformat_minor": 0
}