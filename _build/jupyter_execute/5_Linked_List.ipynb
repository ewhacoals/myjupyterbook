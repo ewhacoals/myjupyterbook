{
 "cells": [
  {
   "cell_type": "markdown",
   "metadata": {
    "id": "Dw_b9_JFWELn"
   },
   "source": [
    "# 5_Linked_List"
   ]
  },
  {
   "cell_type": "markdown",
   "metadata": {
    "id": "k-sTHlVBhDYd"
   },
   "source": [
    "## Modify sys.path to Import External Modules"
   ]
  },
  {
   "cell_type": "markdown",
   "metadata": {
    "id": "ofwQQRxSi9qQ"
   },
   "source": []
  },
  {
   "cell_type": "code",
   "execution_count": 1,
   "metadata": {
    "id": "kmVGyNeRhDQ3"
   },
   "outputs": [],
   "source": [
    "import sys\n",
    "sys.path.append(\"C:/Users/안채민/Desktop/Jupyter_Book/template_jupyterbook\")"
   ]
  },
  {
   "cell_type": "markdown",
   "metadata": {
    "id": "hFrqK5fC550O"
   },
   "source": [
    "# Import the ListNode class from the ListNode.py file"
   ]
  },
  {
   "cell_type": "code",
   "execution_count": 2,
   "metadata": {
    "colab": {
     "base_uri": "https://localhost:8080/"
    },
    "id": "FiusF9GQ55iB",
    "outputId": "5eb5dd81-2dc4-4175-d87e-b7d329a5e4cb"
   },
   "outputs": [
    {
     "ename": "ModuleNotFoundError",
     "evalue": "No module named 'DataStructureCode'",
     "output_type": "error",
     "traceback": [
      "\u001b[1;31m---------------------------------------------------------------------------\u001b[0m",
      "\u001b[1;31mModuleNotFoundError\u001b[0m                       Traceback (most recent call last)",
      "Cell \u001b[1;32mIn[2], line 2\u001b[0m\n\u001b[0;32m      1\u001b[0m \u001b[38;5;66;03m# Import the ListNode class from the ListNode.py file\u001b[39;00m\n\u001b[1;32m----> 2\u001b[0m \u001b[38;5;28;01mfrom\u001b[39;00m \u001b[38;5;21;01mDataStructureCode\u001b[39;00m\u001b[38;5;21;01m.\u001b[39;00m\u001b[38;5;21;01mListNode\u001b[39;00m \u001b[38;5;28;01mimport\u001b[39;00m \u001b[38;5;241m*\u001b[39m\n\u001b[0;32m      4\u001b[0m a \u001b[38;5;241m=\u001b[39m ListNode(data\u001b[38;5;241m=\u001b[39m\u001b[38;5;241m5\u001b[39m, nextNode\u001b[38;5;241m=\u001b[39m\u001b[38;5;28;01mNone\u001b[39;00m)\n\u001b[0;32m      5\u001b[0m \u001b[38;5;28mprint\u001b[39m(a)\n",
      "\u001b[1;31mModuleNotFoundError\u001b[0m: No module named 'DataStructureCode'"
     ]
    }
   ],
   "source": [
    "# Import the ListNode class from the ListNode.py file\n",
    "from DataStructureCode.ListNode import *\n",
    "\n",
    "a = ListNode(data=5, nextNode=None)\n",
    "print(a)\n",
    "print(a.data)\n",
    "print(a.next)"
   ]
  },
  {
   "cell_type": "markdown",
   "metadata": {
    "id": "u2w6sbHgSETA"
   },
   "source": [
    "# Import the SimpleLinkedList class from the SimpleLinkedList.py file"
   ]
  },
  {
   "cell_type": "markdown",
   "metadata": {
    "id": "-oBV6Hz8UGgk"
   },
   "source": [
    "## Append, Insert"
   ]
  },
  {
   "cell_type": "code",
   "execution_count": null,
   "metadata": {
    "colab": {
     "base_uri": "https://localhost:8080/"
    },
    "id": "sDlXjSM1RrKH",
    "outputId": "ecec5c3d-48f0-4d01-d923-b8792a36ea11"
   },
   "outputs": [
    {
     "name": "stdout",
     "output_type": "stream",
     "text": [
      "Elements in the linked list: after adding 5 elements\n",
      "5 4 3 2 1 \n",
      "Elements in the linked list after inserting 10 in index 2: \n",
      "5 4 10 3 2 1 \n"
     ]
    }
   ],
   "source": [
    "from DataStructureCode.SimpleLinkedList import *\n",
    "a = SimpleLinkedList()\n",
    "print(\"Elements in the linked list: after adding 5 elements\" )\n",
    "a.append(5); a.append(4); a.append(3); a.append(2); a.append(1)\n",
    "a.printList()\n",
    "\n",
    "print(\"Elements in the linked list after inserting 10 in index 2: \" )\n",
    "a.insert(2,10)\n",
    "a.printList()"
   ]
  },
  {
   "cell_type": "markdown",
   "metadata": {
    "id": "vTRTG_FHShW4"
   },
   "source": [
    "## getNode"
   ]
  },
  {
   "cell_type": "code",
   "execution_count": null,
   "metadata": {
    "colab": {
     "base_uri": "https://localhost:8080/"
    },
    "id": "xvpPQNAbSgxF",
    "outputId": "5d1c64f9-8355-424c-a833-97d98a88fcab"
   },
   "outputs": [
    {
     "name": "stdout",
     "output_type": "stream",
     "text": [
      "Elements in the linked list: \n",
      "5 4 3 2 1 \n",
      "Elements in the linked list: \n",
      "5 4 3 2 1 <DataStructureCode.SimpleLinkedList.SimpleLinkedList object at 0x78d52aecda90> \n",
      "Element in the 3rd index node of the linked list: \n"
     ]
    },
    {
     "data": {
      "text/plain": [
       "2"
      ]
     },
     "execution_count": 18,
     "metadata": {},
     "output_type": "execute_result"
    }
   ],
   "source": [
    "a = SimpleLinkedList()\n",
    "a.append(5); a.append(4); a.append(3); a.append(2); a.append(1)\n",
    "print(\"Elements in the linked list: \" )\n",
    "a.printList()\n",
    "\n",
    "b = SimpleLinkedList()\n",
    "b.append(2); b.append(4); b.append(6); b.append(8); b.append(10)\n",
    "a.append(b)\n",
    "print(\"Elements in the linked list: \" )\n",
    "a.printList()\n",
    "\n",
    "print(\"Element in the 3rd index node of the linked list: \" )\n",
    "b = a.getNode(3)\n",
    "b.data"
   ]
  },
  {
   "cell_type": "markdown",
   "metadata": {
    "id": "2bZNXU1MTAdF"
   },
   "source": [
    "## Remove"
   ]
  },
  {
   "cell_type": "code",
   "execution_count": null,
   "metadata": {
    "colab": {
     "base_uri": "https://localhost:8080/"
    },
    "id": "ERNl6w-lS_3Q",
    "outputId": "e08fcdc2-de4a-494c-d30c-d5e4c007569a"
   },
   "outputs": [
    {
     "name": "stdout",
     "output_type": "stream",
     "text": [
      "Elements in the linked list: \n",
      "1 9 3 5 7 9 11 \n",
      "Elements in the linked list after removal: \n",
      "1 3 5 7 9 11 \n"
     ]
    }
   ],
   "source": [
    "a = SimpleLinkedList()\n",
    "a.append(1); a.append(3); a.append(5); a.append(7); a.append(11)\n",
    "a.insert(4,9)\n",
    "a.insert(1,9)\n",
    "print(\"Elements in the linked list: \" )\n",
    "a.printList()\n",
    "a.remove(9)\n",
    "print(\"Elements in the linked list after removal: \" )\n",
    "a.printList()"
   ]
  },
  {
   "cell_type": "markdown",
   "metadata": {
    "id": "MM7nw3cjT8zq"
   },
   "source": [
    "# Import the CircularLinkedList class from the CircularLinkedList.py file"
   ]
  },
  {
   "cell_type": "markdown",
   "metadata": {
    "id": "ie238tVBUAsy"
   },
   "source": [
    "## Append, Insert, getNode"
   ]
  },
  {
   "cell_type": "code",
   "execution_count": null,
   "metadata": {
    "colab": {
     "base_uri": "https://localhost:8080/"
    },
    "id": "wwNFV0N7TNiy",
    "outputId": "b6845313-70ce-4ca2-d4ad-0c9649ccd7eb"
   },
   "outputs": [
    {
     "name": "stdout",
     "output_type": "stream",
     "text": [
      "Elements in the linked list: \n",
      "5 4 3 2 1 \n",
      "Elements in the linked list: \n",
      "5 4 3 10 2 1 \n",
      "Element in the 3rd index of the linked list: \n"
     ]
    },
    {
     "data": {
      "text/plain": [
       "10"
      ]
     },
     "execution_count": 22,
     "metadata": {},
     "output_type": "execute_result"
    }
   ],
   "source": [
    "from DataStructureCode.CircularLinkedList import *\n",
    "a = CircularLinkedList()\n",
    "a.append(5); a.append(4); a.append(3); a.append(2); a.append(1)\n",
    "print(\"Elements in the linked list: \" )\n",
    "a.printList()\n",
    "\n",
    "print(\"Elements in the linked list: \" )\n",
    "a.insert(3,10)\n",
    "a.printList()\n",
    "\n",
    "print(\"Element in the 3rd index of the linked list: \" )\n",
    "b = a.getNode(3)\n",
    "b.data"
   ]
  },
  {
   "cell_type": "markdown",
   "metadata": {
    "id": "ECXmUx_7TmVO"
   },
   "source": [
    "## Pop"
   ]
  },
  {
   "cell_type": "code",
   "execution_count": null,
   "metadata": {
    "colab": {
     "base_uri": "https://localhost:8080/"
    },
    "id": "EqRfVZcdTmKy",
    "outputId": "5c4e98ad-210c-4920-b3aa-ecb90af0fa2a"
   },
   "outputs": [
    {
     "name": "stdout",
     "output_type": "stream",
     "text": [
      "Elements in the linked list: \n",
      "5 4 3 2 1 \n",
      "Remove an element in the 4th index:  1\n",
      "Element in the linked list after removal of 4th index: \n",
      "5 4 3 2 \n"
     ]
    }
   ],
   "source": [
    "a = CircularLinkedList()\n",
    "a.append(5); a.append(4); a.append(3); a.append(2); a.append(1)\n",
    "print(\"Elements in the linked list: \" )\n",
    "a.printList()\n",
    "print(\"Remove an element in the 4th index: \", a.pop(4) )\n",
    "print(\"Element in the linked list after removal of 4th index: \" )\n",
    "a.printList()"
   ]
  },
  {
   "cell_type": "markdown",
   "metadata": {
    "id": "IV3CcychTso6"
   },
   "source": [
    "## Get"
   ]
  },
  {
   "cell_type": "code",
   "execution_count": null,
   "metadata": {
    "colab": {
     "base_uri": "https://localhost:8080/"
    },
    "id": "Famf5ntbTsdH",
    "outputId": "3e12ac1e-619a-4a86-bf6f-37404bfa6a71"
   },
   "outputs": [
    {
     "name": "stdout",
     "output_type": "stream",
     "text": [
      "Elements in the linked list: \n",
      "5 4 3 2 1 \n",
      "Get an element in the 4th index:  1\n",
      "Element in the linked list after using get: \n",
      "5 4 3 2 1 \n"
     ]
    }
   ],
   "source": [
    "a = CircularLinkedList()\n",
    "a.append(5); a.append(4); a.append(3); a.append(2); a.append(1)\n",
    "print(\"Elements in the linked list: \" )\n",
    "a.printList()\n",
    "print(\"Get an element in the 4th index: \", a.get(4) )\n",
    "print(\"Element in the linked list after using get: \" )\n",
    "a.printList()"
   ]
  },
  {
   "cell_type": "markdown",
   "metadata": {
    "id": "TzhOl2XnCdn1"
   },
   "source": [
    "New Exercise!!"
   ]
  },
  {
   "cell_type": "markdown",
   "metadata": {
    "id": "yYdQe9VIC-96"
   },
   "source": [
    "A loop in a linked list occurs when a node’s next pointer points to a previous node, forming a cycle.\n",
    "Write a method detect_loop() that checks if a linked list contains a loop.\n",
    "If a loop is detected, return True. Otherwise, return False."
   ]
  },
  {
   "cell_type": "code",
   "execution_count": null,
   "metadata": {
    "colab": {
     "base_uri": "https://localhost:8080/"
    },
    "id": "2ZQUaym-U2q0",
    "outputId": "5c103d04-398f-400b-c6cf-df371c0327f0"
   },
   "outputs": [
    {
     "name": "stdout",
     "output_type": "stream",
     "text": [
      "Loop Detected: True\n",
      "Loop Detected: False\n"
     ]
    }
   ],
   "source": [
    "class Node:\n",
    "    def __init__(self, value):\n",
    "        self.value = value\n",
    "        self.next = None\n",
    "\n",
    "class LinkedList:\n",
    "    def __init__(self):\n",
    "        self.head = None\n",
    "\n",
    "    def add_node(self, value):\n",
    "        new_node = Node(value)\n",
    "        if not self.head:\n",
    "            self.head = new_node\n",
    "            return\n",
    "\n",
    "        current = self.head\n",
    "        while current.next:\n",
    "            current = current.next\n",
    "        current.next = new_node\n",
    "\n",
    "    def create_loop(self, index):\n",
    "        \"\"\"\n",
    "        Creates a loop by connecting the last node to the node at the given index.\n",
    "        \"\"\"\n",
    "        if not self.head:\n",
    "            return\n",
    "\n",
    "        loop_node = None\n",
    "        current = self.head\n",
    "        count = 0\n",
    "\n",
    "        while current.next:\n",
    "            if count == index:\n",
    "                loop_node = current\n",
    "            current = current.next\n",
    "            count += 1\n",
    "\n",
    "        if loop_node:\n",
    "            current.next = loop_node\n",
    "\n",
    "    def detect_loop(self):\n",
    "        slow = self.head\n",
    "        fast = self.head\n",
    "\n",
    "        while fast and fast.next:\n",
    "            slow = slow.next\n",
    "            fast = fast.next.next\n",
    "\n",
    "            if slow == fast:\n",
    "                return True\n",
    "\n",
    "        return False\n",
    "\n",
    "# Example Usage\n",
    "ll = LinkedList()\n",
    "ll.add_node(1)\n",
    "ll.add_node(2)\n",
    "ll.add_node(3)\n",
    "ll.add_node(4)\n",
    "ll.add_node(5)\n",
    "\n",
    "ll.create_loop(2)  # Creates a loop: 5 -> 3\n",
    "\n",
    "print(\"Loop Detected:\", ll.detect_loop())  # Expected Output: True\n",
    "\n",
    "ll2 = LinkedList()\n",
    "ll2.add_node(1)\n",
    "ll2.add_node(2)\n",
    "ll2.add_node(3)\n",
    "\n",
    "print(\"Loop Detected:\", ll2.detect_loop())  # Expected Output: False"
   ]
  }
 ],
 "metadata": {
  "colab": {
   "provenance": []
  },
  "kernelspec": {
   "display_name": "Python 3",
   "name": "python3"
  },
  "language_info": {
   "codemirror_mode": {
    "name": "ipython",
    "version": 3
   },
   "file_extension": ".py",
   "mimetype": "text/x-python",
   "name": "python",
   "nbconvert_exporter": "python",
   "pygments_lexer": "ipython3",
   "version": "3.12.4"
  }
 },
 "nbformat": 4,
 "nbformat_minor": 0
}