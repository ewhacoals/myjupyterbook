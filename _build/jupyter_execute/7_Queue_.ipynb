{
 "cells": [
  {
   "cell_type": "markdown",
   "metadata": {
    "id": "TfUBqi5uWRSM"
   },
   "source": [
    "# 7_Queue"
   ]
  },
  {
   "cell_type": "markdown",
   "metadata": {
    "id": "k-sTHlVBhDYd"
   },
   "source": [
    "## Modify sys.path to Import External Modules"
   ]
  },
  {
   "cell_type": "code",
   "execution_count": 1,
   "metadata": {
    "id": "kmVGyNeRhDQ3"
   },
   "outputs": [],
   "source": [
    "import sys\n",
    "sys.path.append(\"C:/Users/안채민/Desktop/Jupyter_Book/template_jupyterbook\")"
   ]
  },
  {
   "cell_type": "markdown",
   "metadata": {
    "id": "1ORCt1I4LMOW"
   },
   "source": [
    "# Queue"
   ]
  },
  {
   "cell_type": "markdown",
   "metadata": {
    "id": "8uebtTngN9gS"
   },
   "source": [
    "## Import the ListQueue class from the ListQueue.py file"
   ]
  },
  {
   "cell_type": "code",
   "execution_count": 2,
   "metadata": {
    "colab": {
     "base_uri": "https://localhost:8080/"
    },
    "id": "0U4jqshMKJpJ",
    "outputId": "b6e0fda9-9977-4906-c921-4012c9df070c"
   },
   "outputs": [
    {
     "name": "stdout",
     "output_type": "stream",
     "text": [
      "Elements from front to end: \n",
      "Mon Tue Wed Thurs Fri \n",
      "Dequeue: remove an element from the front of the queue:  Mon\n",
      "Elements from front to end: \n",
      "Tue Wed Thurs Fri "
     ]
    }
   ],
   "source": [
    "from ListQueue import *\n",
    "queue = ListQueue()\n",
    "queue.enqueue(\"Mon\"); queue.enqueue(\"Tue\"); queue.enqueue(\"Wed\"); queue.enqueue(\"Thurs\"); queue.enqueue(\"Fri\")\n",
    "queue.printQueue()\n",
    "print(\"\\nDequeue: remove an element from the front of the queue: \", queue.dequeue())\n",
    "queue.printQueue()"
   ]
  },
  {
   "cell_type": "markdown",
   "metadata": {
    "id": "Vm-KGr9wPYTK"
   },
   "source": [
    "# Exercises!"
   ]
  },
  {
   "cell_type": "markdown",
   "metadata": {
    "id": "0wyCDIMyKG4E"
   },
   "source": [
    "## Create your LinkedQueue.py"
   ]
  },
  {
   "cell_type": "code",
   "execution_count": 3,
   "metadata": {
    "id": "Qmvfhn5WCuoa"
   },
   "outputs": [
    {
     "ename": "ModuleNotFoundError",
     "evalue": "No module named 'CircularLinkedList'",
     "output_type": "error",
     "traceback": [
      "\u001b[1;31m---------------------------------------------------------------------------\u001b[0m",
      "\u001b[1;31mModuleNotFoundError\u001b[0m                       Traceback (most recent call last)",
      "Cell \u001b[1;32mIn[3], line 1\u001b[0m\n\u001b[1;32m----> 1\u001b[0m \u001b[38;5;28;01mfrom\u001b[39;00m \u001b[38;5;21;01mCircularLinkedList\u001b[39;00m \u001b[38;5;28;01mimport\u001b[39;00m \u001b[38;5;241m*\u001b[39m\n\u001b[0;32m      3\u001b[0m \u001b[38;5;28;01mclass\u001b[39;00m \u001b[38;5;21;01mLinkedQueue\u001b[39;00m:\n\u001b[0;32m      4\u001b[0m     \u001b[38;5;28;01mdef\u001b[39;00m \u001b[38;5;21m__init__\u001b[39m(\u001b[38;5;28mself\u001b[39m):\n",
      "\u001b[1;31mModuleNotFoundError\u001b[0m: No module named 'CircularLinkedList'"
     ]
    }
   ],
   "source": [
    "from CircularLinkedList import *\n",
    "\n",
    "class LinkedQueue:\n",
    "    def __init__(self):\n",
    "        self.queue = CircularLinkedList()\n",
    "\n",
    "    def enqueue(self, x):\n",
    "        self.queue.append(x)\n",
    "\n",
    "    def dequeue(self):\n",
    "        if self.isEmpty():\n",
    "            print(\"Queue is empty. Cannot dequeue.\")\n",
    "            return None\n",
    "        return self.queue.pop(0)\n",
    "\n",
    "    def front(self):\n",
    "        if self.isEmpty():\n",
    "            print(\"Queue is empty. No front element.\")\n",
    "            return None\n",
    "        return self.queue.get(0)\n",
    "\n",
    "    def isEmpty(self) -> bool:\n",
    "        return self.queue.isEmpty()\n",
    "\n",
    "    def dequeueAll(self):\n",
    "        self.queue.clear()\n",
    "\n",
    "    def size(self):\n",
    "        return self.queue.size()\n",
    "\n",
    "    def printQueue(self):\n",
    "        self.queue.printList()\n",
    "\n",
    "    def reverse(self):\n",
    "        # 큐->스택-> 큐\n",
    "        stack = []\n",
    "        while not self.isEmpty():\n",
    "            stack.append(self.dequeue())\n",
    "        while stack:\n",
    "            self.enqueue(stack.pop())"
   ]
  },
  {
   "cell_type": "code",
   "execution_count": null,
   "metadata": {
    "colab": {
     "base_uri": "https://localhost:8080/"
    },
    "id": "Fj6px8NLKHC2",
    "outputId": "4cf61d99-d5a1-4df6-d249-c8371c73efc1"
   },
   "outputs": [
    {
     "name": "stdout",
     "output_type": "stream",
     "text": [
      "Mon Tue Wed Thurs Fri \n",
      "\n",
      "Dequeue: remove an element from the front of the queue:  Mon\n",
      "Tue Wed Thurs Fri \n"
     ]
    }
   ],
   "source": [
    "from mylinkedqueue import *\n",
    "queue = LinkedQueue()\n",
    "queue.enqueue(\"Mon\"); queue.enqueue(\"Tue\"); queue.enqueue(\"Wed\"); queue.enqueue(\"Thurs\"); queue.enqueue(\"Fri\")\n",
    "queue.printQueue()\n",
    "print(\"\\nDequeue: remove an element from the front of the queue: \", queue.dequeue())\n",
    "queue.printQueue()"
   ]
  },
  {
   "cell_type": "markdown",
   "metadata": {
    "id": "aCz_Cy1oPa6u"
   },
   "source": [
    "## Reverse: Queue\n",
    "\n",
    "1. Suppose you have a queue. Create a function that reverses individual characters in a string using a queue. This time make the original queue to be reversed.\n",
    "2. Try to add `reverse()` method to the ListQueue class."
   ]
  },
  {
   "cell_type": "code",
   "execution_count": null,
   "metadata": {
    "colab": {
     "base_uri": "https://localhost:8080/"
    },
    "id": "tSZOAgpDPazI",
    "outputId": "ece47b18-8312-4f6a-ef38-ff4c54ffd4f2"
   },
   "outputs": [
    {
     "name": "stdout",
     "output_type": "stream",
     "text": [
      "Mon Tue Wed Thurs Fri \n",
      "After Reversing the queue:\n",
      "Fri Thurs Wed Tue Mon \n"
     ]
    }
   ],
   "source": [
    "from mylinkedqueue import *\n",
    "queue = LinkedQueue()\n",
    "queue.enqueue(\"Mon\"); queue.enqueue(\"Tue\"); queue.enqueue(\"Wed\"); queue.enqueue(\"Thurs\"); queue.enqueue(\"Fri\")\n",
    "queue.printQueue()\n",
    "\n",
    "def reverseQueue(queue):\n",
    "  queue.reverse()\n",
    "\n",
    "reverseQueue(queue)\n",
    "print(\"After Reversing the queue:\")\n",
    "queue.printQueue()"
   ]
  },
  {
   "cell_type": "markdown",
   "metadata": {
    "id": "u2DlphfyDJTw"
   },
   "source": [
    "## Palindrome\n",
    "\n",
    "*   Palindrome is word, phrase, or sequence that reads the same backward as forward (e.g. madam, mom, kayak). Write a function that checks if a string is palindrome using stack and queue data structure.\n",
    "\n"
   ]
  },
  {
   "cell_type": "code",
   "execution_count": null,
   "metadata": {
    "colab": {
     "base_uri": "https://localhost:8080/"
    },
    "id": "OSVrjh_LDItk",
    "outputId": "a2b8f8e8-b605-42fd-8859-9810ec7385c3"
   },
   "outputs": [
    {
     "name": "stdout",
     "output_type": "stream",
     "text": [
      "civic is Palindrome?:  True\n"
     ]
    }
   ],
   "source": [
    "from ListStack import *\n",
    "from ListQueue import *\n",
    "\n",
    "def isPalindrome(A):\n",
    "    stack = ListStack()\n",
    "    queue = ListQueue()\n",
    "\n",
    "    # 1. 각 글자 넣가\n",
    "    for i in A:\n",
    "      stack.push(i)\n",
    "      queue.enqueue(i)\n",
    "    # 2. 하나씩 비교\n",
    "    while not stack.isEmpty() and not queue.isEmpty():\n",
    "        if stack.pop() != queue.dequeue():\n",
    "            return False\n",
    "\n",
    "    return True\n",
    "\n",
    "str = 'civic'\n",
    "print(str, \"is Palindrome?: \", isPalindrome(str))"
   ]
  },
  {
   "cell_type": "markdown",
   "metadata": {
    "id": "6Q36HUyuHOi5"
   },
   "source": [
    "New Exercise!!"
   ]
  },
  {
   "cell_type": "markdown",
   "metadata": {
    "id": "4nzSZQv1Hbgc"
   },
   "source": [
    "Write a function isBalancedSet(s) that checks if the given string contains balanced sets of parentheses.\n",
    "A set is considered balanced if every opening ( has a corresponding closing ) and there are no unmatched parentheses.\n",
    "The function should return True if the string is a balanced set, otherwise False."
   ]
  },
  {
   "cell_type": "code",
   "execution_count": null,
   "metadata": {
    "colab": {
     "base_uri": "https://localhost:8080/"
    },
    "id": "ecn4CUVaHOxS",
    "outputId": "96d155f7-899c-4ad6-df9e-f91ec953f86f"
   },
   "outputs": [
    {
     "name": "stdout",
     "output_type": "stream",
     "text": [
      "True\n",
      "False\n",
      "True\n",
      "False\n",
      "True\n"
     ]
    }
   ],
   "source": [
    "from collections import deque\n",
    "\n",
    "def isBalancedSet(s):\n",
    "    queue = deque()\n",
    "    open_count = 0\n",
    "    close_count = 0\n",
    "\n",
    "    for char in s:\n",
    "        if char == '(':\n",
    "            open_count += 1\n",
    "            queue.append(char)\n",
    "        elif char == ')':\n",
    "            close_count += 1\n",
    "            if queue:\n",
    "                queue.pop()\n",
    "            else:\n",
    "                # More closing than opening\n",
    "                return False\n",
    "\n",
    "    # A complete set should have equal number of open and close\n",
    "    return open_count == close_count\n",
    "\n",
    "# Example Usage\n",
    "print(isBalancedSet(\"(()())\"))  # True\n",
    "print(isBalancedSet(\")))()(\"))  # False\n",
    "print(isBalancedSet(\"()()\"))    # True\n",
    "print(isBalancedSet(\"((())\"))   # False\n",
    "print(isBalancedSet(\"()\"))      # True"
   ]
  },
  {
   "cell_type": "markdown",
   "metadata": {
    "id": "F-HpVpjJJstO"
   },
   "source": [
    "## Fun Example: in your Python, try the below"
   ]
  },
  {
   "cell_type": "code",
   "execution_count": null,
   "metadata": {
    "id": "W6aL9lmxT0iL"
   },
   "outputs": [],
   "source": [
    "select = input(\"Choose one of the followings (I/D/X): Insert(I)/Delete(D)/Exit(X) ==> \")\n",
    "queue = ListQueue()\n",
    "while (select != \"X\" and select != \"x\"):\n",
    "  if select==\"I\" or select ==\"i\" :\n",
    "    data = input(\"Type Input Data ==> \")\n",
    "    queue.enqueue(data)\n",
    "    print(queue.size(), \"number of elements, front : \", queue.front(), \", rear : \", queue.queue[queue.size()-1])\n",
    "  elif select==\"D\" or select ==\"d\":\n",
    "    print(\"Dequeue: removed an element from the front of the queue: \", queue.dequeue())\n",
    "    print(queue.size(), \"number of elements, front : \", queue.front(), \", rear : \", queue.queue[queue.size()-1])\n",
    "  else :\n",
    "    print(\"Wrong Insertion - should choose on of the followings (I/D/X): Insert(I)/Delete(D)/Exit(X)\")\n",
    "    select = input(\"Choose one of the followings (I/D/X): Insert(I)/Delete(D)/Exit(X) ==> \")\n",
    "    print(\"Terminate the program!\")"
   ]
  }
 ],
 "metadata": {
  "colab": {
   "provenance": []
  },
  "kernelspec": {
   "display_name": "Python 3",
   "name": "python3"
  },
  "language_info": {
   "codemirror_mode": {
    "name": "ipython",
    "version": 3
   },
   "file_extension": ".py",
   "mimetype": "text/x-python",
   "name": "python",
   "nbconvert_exporter": "python",
   "pygments_lexer": "ipython3",
   "version": "3.12.4"
  }
 },
 "nbformat": 4,
 "nbformat_minor": 0
}