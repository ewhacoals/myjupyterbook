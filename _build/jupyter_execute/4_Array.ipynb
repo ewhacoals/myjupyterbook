{
 "cells": [
  {
   "cell_type": "markdown",
   "metadata": {
    "id": "1GyHptjVV6Tr"
   },
   "source": [
    "# 4_Array"
   ]
  },
  {
   "cell_type": "markdown",
   "metadata": {
    "id": "k-sTHlVBhDYd"
   },
   "source": [
    "## Modify sys.path to Import External Modules"
   ]
  },
  {
   "cell_type": "markdown",
   "metadata": {
    "id": "ofwQQRxSi9qQ"
   },
   "source": []
  },
  {
   "cell_type": "code",
   "execution_count": 1,
   "metadata": {
    "id": "kmVGyNeRhDQ3"
   },
   "outputs": [],
   "source": [
    "import sys\n",
    "sys.path.append(\"C:/Users/안채민/Desktop/Jupyter_Book/template_jupyterbook\")"
   ]
  },
  {
   "cell_type": "markdown",
   "metadata": {
    "id": "hFrqK5fC550O"
   },
   "source": [
    "# Import Array.py Module"
   ]
  },
  {
   "cell_type": "code",
   "execution_count": 2,
   "metadata": {
    "id": "FiusF9GQ55iB"
   },
   "outputs": [
    {
     "ename": "ModuleNotFoundError",
     "evalue": "No module named 'Array'",
     "output_type": "error",
     "traceback": [
      "\u001b[1;31m---------------------------------------------------------------------------\u001b[0m",
      "\u001b[1;31mModuleNotFoundError\u001b[0m                       Traceback (most recent call last)",
      "Cell \u001b[1;32mIn[2], line 3\u001b[0m\n\u001b[0;32m      1\u001b[0m \u001b[38;5;66;03m# Import the Array class from the Array.py file\u001b[39;00m\n\u001b[0;32m      2\u001b[0m \u001b[38;5;66;03m# from Array import *\u001b[39;00m\n\u001b[1;32m----> 3\u001b[0m \u001b[38;5;28;01mfrom\u001b[39;00m \u001b[38;5;21;01mArray\u001b[39;00m \u001b[38;5;28;01mimport\u001b[39;00m MyArray\n\u001b[0;32m      5\u001b[0m \u001b[38;5;66;03m# Create an instance of the Array class\u001b[39;00m\n\u001b[0;32m      6\u001b[0m arr \u001b[38;5;241m=\u001b[39m MyArray([\u001b[38;5;241m1\u001b[39m, \u001b[38;5;241m2\u001b[39m, \u001b[38;5;241m3\u001b[39m, \u001b[38;5;241m4\u001b[39m, \u001b[38;5;241m5\u001b[39m])\n",
      "\u001b[1;31mModuleNotFoundError\u001b[0m: No module named 'Array'"
     ]
    }
   ],
   "source": [
    "# Import the Array class from the Array.py file\n",
    "# from Array import *\n",
    "from Array import MyArray\n",
    "\n",
    "# Create an instance of the Array class\n",
    "arr = MyArray([1, 2, 3, 4, 5])\n",
    "\n",
    "# Print the original array\n",
    "print(\"Original array:\", arr.array)\n",
    "\n",
    "# Insert 6 at the last index (after the last element)\n",
    "arr.myInsert(6, len(arr.array))  # Inserts 6 at the end\n",
    "print(\"After insertion:\", arr.array)\n",
    "\n",
    "# Remove element 5 from the array\n",
    "arr.myRemove(5)  # Removes element 5 from the array\n",
    "print(\"After removal:\", arr.array)\n",
    "\n",
    "# Find index for element 3\n",
    "arr.myIndex(3)"
   ]
  },
  {
   "cell_type": "markdown",
   "metadata": {
    "id": "p3b3bDBni-gY"
   },
   "source": [
    "# Example 1: Time Complexity\n",
    "\n",
    "What is the time complexity of access, search, insertion, deletion of array data structure? Explain why.\n"
   ]
  },
  {
   "cell_type": "code",
   "execution_count": null,
   "metadata": {
    "id": "9ppWH1oJnAxE"
   },
   "outputs": [],
   "source": [
    "import numpy as np\n",
    "\n",
    "class MyArray:\n",
    "    def __init__(self, input_list):\n",
    "        self.array = np.array(input_list, dtype=\"i\")\n",
    "\n",
    "    def myInsert(self, x, i):\n",
    "        new_array = np.empty(len(self.array) + 1, dtype=\"i\")\n",
    "        new_array[:len(self.array)] = self.array\n",
    "        n = len(new_array)\n",
    "\n",
    "        # Shift elements to the right\n",
    "        for idx in range(n - 2, i - 1, -1):\n",
    "            new_array[idx + 1] = new_array[idx]\n",
    "\n",
    "        new_array[i] = x\n",
    "        self.array = new_array  # Update self.array\n",
    "        return self.array\n",
    "\n",
    "    def myIndex(self, x):\n",
    "        n = len(self.array)\n",
    "        for idx in range(n):\n",
    "            if self.array[idx] == x:\n",
    "                return idx\n",
    "        return -1  # If the key is not found\n",
    "\n",
    "    def myDelete(self, i):\n",
    "        n = len(self.array)\n",
    "\n",
    "        # Shift elements to the left\n",
    "        for idx in range(i + 1, n):\n",
    "            self.array[idx - 1] = self.array[idx]\n",
    "\n",
    "        self.array = self.array[:n - 1]  # Update self.array\n",
    "        return self.array\n",
    "\n",
    "    def myRemove(self, x):\n",
    "        i = self.myIndex(x)\n",
    "        if i == -1:\n",
    "            print(\"Element not found.\")\n",
    "            return self.array\n",
    "\n",
    "        print(\"Element found at position:\", i)\n",
    "        self.myDelete(i)\n",
    "        return self.array"
   ]
  },
  {
   "cell_type": "markdown",
   "metadata": {
    "id": "S9N1bBq3APRf"
   },
   "source": [
    "Access:\n",
    "Best Case: O(1) - Direct index access in constant time.\n",
    "\n",
    "Worst Case: O(1) - Direct index access remains constant.\n",
    "\n",
    "Search:\n",
    "Best Case: O(1) - Target element is the first element.\n",
    "\n",
    "Worst Case: O(n) - Target element is the last element or not found.\n",
    "\n",
    "Insertion:\n",
    "Best Case: O(1) - Insertion at the end with no shifting required.\n",
    "\n",
    "Worst Case: O(n) - Insertion at the beginning or middle, requiring all subsequent elements to be shifted.\n",
    "\n",
    "Deletion:\n",
    "Best Case: O(1) - Deleting the last element with no shifting required.\n",
    "\n",
    "Worst Case: O(n) - Deleting the first or middle element, requiring all subsequent elements to be shifted."
   ]
  },
  {
   "cell_type": "markdown",
   "metadata": {
    "id": "BiqXuIWY_kwM"
   },
   "source": [
    "# Example 2\n",
    "\n",
    "Explore and compare the differences between Python lists and array data structures. Use online resources and feel free to utilize generative AI chatbots to aid in your understanding. Consider the following aspects in your exploration:\n",
    "\n",
    "* **Storage structure**: How do Python lists and arrays store data in memory? Are they contiguous or non-contiguous?\n",
    "\n",
    "* **Performance**: How do their performance characteristics differ for various operations such as indexing, insertion, and deletion?\n",
    "\n",
    "* **Type of elements**: Are Python lists and arrays restricted to a single data type, or can they store elements of mixed types? How does this affect performance?\n",
    "\n",
    "* **Dynamic vs Static**: How do Python lists (dynamic arrays) and static arrays differ in terms of resizing and memory allocation?\n",
    "\n",
    "* **Access and manipulation**: How do access and manipulation operations differ between Python lists and arrays?\n"
   ]
  },
  {
   "cell_type": "code",
   "execution_count": null,
   "metadata": {
    "id": "SFS0ebkT_knM"
   },
   "outputs": [],
   "source": [
    "import numpy as np\n",
    "arr=MyArray([1,2,3,4,5])\n",
    "python_list=[1,3,'hi','data','struchure']\n",
    "python_list.append([3,5,10,15,20])\n",
    "print(python_list)"
   ]
  },
  {
   "cell_type": "markdown",
   "metadata": {
    "id": "Oj16aUOBc1H0"
   },
   "source": [
    "First, in terms of memory storage, Python lists are non-contiguous, storing references to objects, while NumPy arrays store data in contiguous memory blocks. This allows NumPy to be faster and more efficient, especially for numerical operations.\n",
    "Second, regarding performance, both support O(1) indexing, but NumPy arrays significantly outperform lists in operations like addition, multiplication, and slicing, thanks to vectorization and internal C optimizations.\n",
    "Third, about data types, Python lists can store mixed types, making them flexible but slower. On the other hand, NumPy arrays require a single data type, which boosts speed and memory efficiency.\n",
    "Fourth, Python lists are dynamic, meaning they can grow or shrink easily. NumPy arrays are more static, so resizing requires creating a new array.\n",
    "Lastly, when it comes to access and manipulation, Python lists rely on loops, whereas NumPy arrays support element-wise operations without explicit iteration.\n"
   ]
  },
  {
   "cell_type": "markdown",
   "metadata": {
    "id": "xyX0RlbqAQqA"
   },
   "source": [
    "\n",
    "# Example 3\n",
    "\n",
    "Create a function that output unique elements in a given array. Unique means distinct elements. What is the time complexity of the algorithm?\n"
   ]
  },
  {
   "cell_type": "code",
   "execution_count": null,
   "metadata": {
    "colab": {
     "base_uri": "https://localhost:8080/"
    },
    "id": "P0NSbGtdnrSm",
    "outputId": "c9d7f355-d000-4be9-9fe4-8dd1cdb8021d"
   },
   "outputs": [
    {
     "name": "stdout",
     "output_type": "stream",
     "text": [
      "[1, 2, 3, 4, 5, 6, 7]\n"
     ]
    }
   ],
   "source": [
    "def unique(arr):\n",
    "    result = []\n",
    "    seen = {}\n",
    "\n",
    "    for i in arr: #o(n)\n",
    "        if i not in seen: #n*o(1)-->o(n)\n",
    "            result.append(i) #o(1)\n",
    "            seen[i] = True #o(1)\n",
    "\n",
    "    return result\n",
    "\n",
    "a = [1, 2, 2, 3, 4, 5, 5, 6, 7, 7]\n",
    "print(unique(a))\n",
    "#시복 총 o(n^2)"
   ]
  },
  {
   "cell_type": "markdown",
   "metadata": {
    "id": "tuQ1MsZFg9Zv"
   },
   "source": [
    "# Example 4\n",
    "\n",
    "Create a function that returns how many number of elements are odd and even elements in the array.\n"
   ]
  },
  {
   "cell_type": "code",
   "execution_count": null,
   "metadata": {
    "colab": {
     "base_uri": "https://localhost:8080/"
    },
    "id": "CjEEiGleg9Cz",
    "outputId": "207eea10-b0a6-488a-ad54-202a358e1aae"
   },
   "outputs": [
    {
     "name": "stdout",
     "output_type": "stream",
     "text": [
      "Number of even/odd numbers=4/6\n"
     ]
    }
   ],
   "source": [
    "def EvenOdd(arr):\n",
    "    even_count = 0\n",
    "    odd_count = 0\n",
    "\n",
    "    for i in arr:\n",
    "        if i % 2 == 0:\n",
    "            even_count += 1\n",
    "        else:\n",
    "            odd_count += 1\n",
    "\n",
    "    print(f\"Number of even/odd numbers={even_count}/{odd_count}\")\n",
    "\n",
    "a = [1, 2, 2, 3, 4, 5, 5, 6, 7, 7]\n",
    "EvenOdd(a)"
   ]
  },
  {
   "cell_type": "markdown",
   "metadata": {
    "id": "iYH6JEhEAvyw"
   },
   "source": [
    "New Example!!"
   ]
  },
  {
   "cell_type": "markdown",
   "metadata": {
    "id": "6Ko1d5W0AkZZ"
   },
   "source": [
    "Write a function count_occurrences(arr) that takes a list of integers and returns a dictionary with each unique element as the key and its occurrence count as the value. And What is the time complexity of the algorithm?\n",
    "\n"
   ]
  },
  {
   "cell_type": "code",
   "execution_count": null,
   "metadata": {
    "id": "w79rY8TpAkLM"
   },
   "outputs": [],
   "source": [
    "def count_occurrences(arr):\n",
    "    result = {}\n",
    "\n",
    "    for i in arr:  # O(n)\n",
    "        if i in result:  # O(1)\n",
    "            result[i] += 1  # O(1)\n",
    "        else:\n",
    "            result[i] = 1  # O(1)\n",
    "\n",
    "    return result\n",
    "\n",
    "a = [1, 2, 2, 3, 3, 3, 4, 4, 4, 4]\n",
    "print(count_occurrences(a))\n",
    "##total time complexity ==O(n)."
   ]
  }
 ],
 "metadata": {
  "colab": {
   "provenance": []
  },
  "kernelspec": {
   "display_name": "Python 3",
   "name": "python3"
  },
  "language_info": {
   "codemirror_mode": {
    "name": "ipython",
    "version": 3
   },
   "file_extension": ".py",
   "mimetype": "text/x-python",
   "name": "python",
   "nbconvert_exporter": "python",
   "pygments_lexer": "ipython3",
   "version": "3.12.4"
  }
 },
 "nbformat": 4,
 "nbformat_minor": 0
}