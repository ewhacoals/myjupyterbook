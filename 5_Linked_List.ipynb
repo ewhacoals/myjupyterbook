{
  "nbformat": 4,
  "nbformat_minor": 0,
  "metadata": {
    "colab": {
      "provenance": []
    },
    "kernelspec": {
      "name": "python3",
      "display_name": "Python 3"
    },
    "language_info": {
      "name": "python"
    }
  },
  "cells": [
    {
      "cell_type": "markdown",
      "source": [
        "# 5_Linked_List"
      ],
      "metadata": {
        "id": "Dw_b9_JFWELn"
      }
    },
    {
      "cell_type": "markdown",
      "source": [
        "## Modify sys.path to Import External Modules"
      ],
      "metadata": {
        "id": "k-sTHlVBhDYd"
      }
    },
    {
      "cell_type": "markdown",
      "source": [],
      "metadata": {
        "id": "ofwQQRxSi9qQ"
      }
    },
    {
      "cell_type": "code",
      "source": [
        "import sys\n",
        "sys.path.append(\"C:/Users/안채민/Desktop/Jupyter_Book/template_jupyterbook\")"
      ],
      "metadata": {
        "id": "kmVGyNeRhDQ3"
      },
      "execution_count": null,
      "outputs": []
    },
    {
      "cell_type": "markdown",
      "source": [
        "# Import the ListNode class from the ListNode.py file"
      ],
      "metadata": {
        "id": "hFrqK5fC550O"
      }
    },
    {
      "cell_type": "code",
      "source": [
        "# Import the ListNode class from the ListNode.py file\n",
        "from DataStructureCode.ListNode import *\n",
        "\n",
        "a = ListNode(data=5, nextNode=None)\n",
        "print(a)\n",
        "print(a.data)\n",
        "print(a.next)"
      ],
      "metadata": {
        "colab": {
          "base_uri": "https://localhost:8080/"
        },
        "id": "FiusF9GQ55iB",
        "outputId": "5eb5dd81-2dc4-4175-d87e-b7d329a5e4cb"
      },
      "execution_count": null,
      "outputs": [
        {
          "output_type": "stream",
          "name": "stdout",
          "text": [
            "<DataStructureCode.ListNode.ListNode object at 0x78d51202d3d0>\n",
            "5\n",
            "None\n"
          ]
        }
      ]
    },
    {
      "cell_type": "markdown",
      "source": [
        "# Import the SimpleLinkedList class from the SimpleLinkedList.py file"
      ],
      "metadata": {
        "id": "u2w6sbHgSETA"
      }
    },
    {
      "cell_type": "markdown",
      "source": [
        "## Append, Insert"
      ],
      "metadata": {
        "id": "-oBV6Hz8UGgk"
      }
    },
    {
      "cell_type": "code",
      "source": [
        "from DataStructureCode.SimpleLinkedList import *\n",
        "a = SimpleLinkedList()\n",
        "print(\"Elements in the linked list: after adding 5 elements\" )\n",
        "a.append(5); a.append(4); a.append(3); a.append(2); a.append(1)\n",
        "a.printList()\n",
        "\n",
        "print(\"Elements in the linked list after inserting 10 in index 2: \" )\n",
        "a.insert(2,10)\n",
        "a.printList()"
      ],
      "metadata": {
        "colab": {
          "base_uri": "https://localhost:8080/"
        },
        "id": "sDlXjSM1RrKH",
        "outputId": "ecec5c3d-48f0-4d01-d923-b8792a36ea11"
      },
      "execution_count": null,
      "outputs": [
        {
          "output_type": "stream",
          "name": "stdout",
          "text": [
            "Elements in the linked list: after adding 5 elements\n",
            "5 4 3 2 1 \n",
            "Elements in the linked list after inserting 10 in index 2: \n",
            "5 4 10 3 2 1 \n"
          ]
        }
      ]
    },
    {
      "cell_type": "markdown",
      "source": [
        "## getNode"
      ],
      "metadata": {
        "id": "vTRTG_FHShW4"
      }
    },
    {
      "cell_type": "code",
      "source": [
        "a = SimpleLinkedList()\n",
        "a.append(5); a.append(4); a.append(3); a.append(2); a.append(1)\n",
        "print(\"Elements in the linked list: \" )\n",
        "a.printList()\n",
        "\n",
        "b = SimpleLinkedList()\n",
        "b.append(2); b.append(4); b.append(6); b.append(8); b.append(10)\n",
        "a.append(b)\n",
        "print(\"Elements in the linked list: \" )\n",
        "a.printList()\n",
        "\n",
        "print(\"Element in the 3rd index node of the linked list: \" )\n",
        "b = a.getNode(3)\n",
        "b.data"
      ],
      "metadata": {
        "colab": {
          "base_uri": "https://localhost:8080/"
        },
        "id": "xvpPQNAbSgxF",
        "outputId": "5d1c64f9-8355-424c-a833-97d98a88fcab"
      },
      "execution_count": null,
      "outputs": [
        {
          "output_type": "stream",
          "name": "stdout",
          "text": [
            "Elements in the linked list: \n",
            "5 4 3 2 1 \n",
            "Elements in the linked list: \n",
            "5 4 3 2 1 <DataStructureCode.SimpleLinkedList.SimpleLinkedList object at 0x78d52aecda90> \n",
            "Element in the 3rd index node of the linked list: \n"
          ]
        },
        {
          "output_type": "execute_result",
          "data": {
            "text/plain": [
              "2"
            ]
          },
          "metadata": {},
          "execution_count": 18
        }
      ]
    },
    {
      "cell_type": "markdown",
      "source": [
        "## Remove"
      ],
      "metadata": {
        "id": "2bZNXU1MTAdF"
      }
    },
    {
      "cell_type": "code",
      "source": [
        "a = SimpleLinkedList()\n",
        "a.append(1); a.append(3); a.append(5); a.append(7); a.append(11)\n",
        "a.insert(4,9)\n",
        "a.insert(1,9)\n",
        "print(\"Elements in the linked list: \" )\n",
        "a.printList()\n",
        "a.remove(9)\n",
        "print(\"Elements in the linked list after removal: \" )\n",
        "a.printList()"
      ],
      "metadata": {
        "colab": {
          "base_uri": "https://localhost:8080/"
        },
        "id": "ERNl6w-lS_3Q",
        "outputId": "e08fcdc2-de4a-494c-d30c-d5e4c007569a"
      },
      "execution_count": null,
      "outputs": [
        {
          "output_type": "stream",
          "name": "stdout",
          "text": [
            "Elements in the linked list: \n",
            "1 9 3 5 7 9 11 \n",
            "Elements in the linked list after removal: \n",
            "1 3 5 7 9 11 \n"
          ]
        }
      ]
    },
    {
      "cell_type": "markdown",
      "source": [
        "# Import the CircularLinkedList class from the CircularLinkedList.py file"
      ],
      "metadata": {
        "id": "MM7nw3cjT8zq"
      }
    },
    {
      "cell_type": "markdown",
      "source": [
        "## Append, Insert, getNode"
      ],
      "metadata": {
        "id": "ie238tVBUAsy"
      }
    },
    {
      "cell_type": "code",
      "source": [
        "from DataStructureCode.CircularLinkedList import *\n",
        "a = CircularLinkedList()\n",
        "a.append(5); a.append(4); a.append(3); a.append(2); a.append(1)\n",
        "print(\"Elements in the linked list: \" )\n",
        "a.printList()\n",
        "\n",
        "print(\"Elements in the linked list: \" )\n",
        "a.insert(3,10)\n",
        "a.printList()\n",
        "\n",
        "print(\"Element in the 3rd index of the linked list: \" )\n",
        "b = a.getNode(3)\n",
        "b.data"
      ],
      "metadata": {
        "colab": {
          "base_uri": "https://localhost:8080/"
        },
        "id": "wwNFV0N7TNiy",
        "outputId": "b6845313-70ce-4ca2-d4ad-0c9649ccd7eb"
      },
      "execution_count": null,
      "outputs": [
        {
          "output_type": "stream",
          "name": "stdout",
          "text": [
            "Elements in the linked list: \n",
            "5 4 3 2 1 \n",
            "Elements in the linked list: \n",
            "5 4 3 10 2 1 \n",
            "Element in the 3rd index of the linked list: \n"
          ]
        },
        {
          "output_type": "execute_result",
          "data": {
            "text/plain": [
              "10"
            ]
          },
          "metadata": {},
          "execution_count": 22
        }
      ]
    },
    {
      "cell_type": "markdown",
      "source": [
        "## Pop"
      ],
      "metadata": {
        "id": "ECXmUx_7TmVO"
      }
    },
    {
      "cell_type": "code",
      "source": [
        "a = CircularLinkedList()\n",
        "a.append(5); a.append(4); a.append(3); a.append(2); a.append(1)\n",
        "print(\"Elements in the linked list: \" )\n",
        "a.printList()\n",
        "print(\"Remove an element in the 4th index: \", a.pop(4) )\n",
        "print(\"Element in the linked list after removal of 4th index: \" )\n",
        "a.printList()"
      ],
      "metadata": {
        "colab": {
          "base_uri": "https://localhost:8080/"
        },
        "id": "EqRfVZcdTmKy",
        "outputId": "5c4e98ad-210c-4920-b3aa-ecb90af0fa2a"
      },
      "execution_count": null,
      "outputs": [
        {
          "output_type": "stream",
          "name": "stdout",
          "text": [
            "Elements in the linked list: \n",
            "5 4 3 2 1 \n",
            "Remove an element in the 4th index:  1\n",
            "Element in the linked list after removal of 4th index: \n",
            "5 4 3 2 \n"
          ]
        }
      ]
    },
    {
      "cell_type": "markdown",
      "source": [
        "## Get"
      ],
      "metadata": {
        "id": "IV3CcychTso6"
      }
    },
    {
      "cell_type": "code",
      "source": [
        "a = CircularLinkedList()\n",
        "a.append(5); a.append(4); a.append(3); a.append(2); a.append(1)\n",
        "print(\"Elements in the linked list: \" )\n",
        "a.printList()\n",
        "print(\"Get an element in the 4th index: \", a.get(4) )\n",
        "print(\"Element in the linked list after using get: \" )\n",
        "a.printList()"
      ],
      "metadata": {
        "colab": {
          "base_uri": "https://localhost:8080/"
        },
        "id": "Famf5ntbTsdH",
        "outputId": "3e12ac1e-619a-4a86-bf6f-37404bfa6a71"
      },
      "execution_count": null,
      "outputs": [
        {
          "output_type": "stream",
          "name": "stdout",
          "text": [
            "Elements in the linked list: \n",
            "5 4 3 2 1 \n",
            "Get an element in the 4th index:  1\n",
            "Element in the linked list after using get: \n",
            "5 4 3 2 1 \n"
          ]
        }
      ]
    },
    {
      "cell_type": "markdown",
      "source": [
        "New Exercise!!"
      ],
      "metadata": {
        "id": "TzhOl2XnCdn1"
      }
    },
    {
      "cell_type": "markdown",
      "source": [
        "A loop in a linked list occurs when a node’s next pointer points to a previous node, forming a cycle.\n",
        "Write a method detect_loop() that checks if a linked list contains a loop.\n",
        "If a loop is detected, return True. Otherwise, return False."
      ],
      "metadata": {
        "id": "yYdQe9VIC-96"
      }
    },
    {
      "cell_type": "code",
      "source": [
        "class Node:\n",
        "    def __init__(self, value):\n",
        "        self.value = value\n",
        "        self.next = None\n",
        "\n",
        "class LinkedList:\n",
        "    def __init__(self):\n",
        "        self.head = None\n",
        "\n",
        "    def add_node(self, value):\n",
        "        new_node = Node(value)\n",
        "        if not self.head:\n",
        "            self.head = new_node\n",
        "            return\n",
        "\n",
        "        current = self.head\n",
        "        while current.next:\n",
        "            current = current.next\n",
        "        current.next = new_node\n",
        "\n",
        "    def create_loop(self, index):\n",
        "        \"\"\"\n",
        "        Creates a loop by connecting the last node to the node at the given index.\n",
        "        \"\"\"\n",
        "        if not self.head:\n",
        "            return\n",
        "\n",
        "        loop_node = None\n",
        "        current = self.head\n",
        "        count = 0\n",
        "\n",
        "        while current.next:\n",
        "            if count == index:\n",
        "                loop_node = current\n",
        "            current = current.next\n",
        "            count += 1\n",
        "\n",
        "        if loop_node:\n",
        "            current.next = loop_node\n",
        "\n",
        "    def detect_loop(self):\n",
        "        slow = self.head\n",
        "        fast = self.head\n",
        "\n",
        "        while fast and fast.next:\n",
        "            slow = slow.next\n",
        "            fast = fast.next.next\n",
        "\n",
        "            if slow == fast:\n",
        "                return True\n",
        "\n",
        "        return False\n",
        "\n",
        "# Example Usage\n",
        "ll = LinkedList()\n",
        "ll.add_node(1)\n",
        "ll.add_node(2)\n",
        "ll.add_node(3)\n",
        "ll.add_node(4)\n",
        "ll.add_node(5)\n",
        "\n",
        "ll.create_loop(2)  # Creates a loop: 5 -> 3\n",
        "\n",
        "print(\"Loop Detected:\", ll.detect_loop())  # Expected Output: True\n",
        "\n",
        "ll2 = LinkedList()\n",
        "ll2.add_node(1)\n",
        "ll2.add_node(2)\n",
        "ll2.add_node(3)\n",
        "\n",
        "print(\"Loop Detected:\", ll2.detect_loop())  # Expected Output: False"
      ],
      "metadata": {
        "id": "2ZQUaym-U2q0",
        "colab": {
          "base_uri": "https://localhost:8080/"
        },
        "outputId": "5c103d04-398f-400b-c6cf-df371c0327f0"
      },
      "execution_count": null,
      "outputs": [
        {
          "output_type": "stream",
          "name": "stdout",
          "text": [
            "Loop Detected: True\n",
            "Loop Detected: False\n"
          ]
        }
      ]
    }
  ]
}