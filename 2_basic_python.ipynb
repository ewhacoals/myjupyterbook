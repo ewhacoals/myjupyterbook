{
  "nbformat": 4,
  "nbformat_minor": 0,
  "metadata": {
    "colab": {
      "provenance": []
    },
    "kernelspec": {
      "name": "python3",
      "display_name": "Python 3"
    },
    "language_info": {
      "name": "python"
    }
  },
  "cells": [
    {
      "cell_type": "markdown",
      "source": [
        "# 2_basic _python"
      ],
      "metadata": {
        "id": "ho8tFKq7VHIq"
      }
    },
    {
      "cell_type": "markdown",
      "source": [
        "Modify sys.path to Import External Module"
      ],
      "metadata": {
        "id": "SNMdorCU3A2g"
      }
    },
    {
      "cell_type": "code",
      "execution_count": null,
      "metadata": {
        "id": "LurhypIW1-IJ"
      },
      "outputs": [],
      "source": [
        "import sys\n",
        "sys.path.append(\"C:/Users/안채민/Desktop/Jupyter_Book/template_jupyterbook\")"
      ]
    },
    {
      "cell_type": "markdown",
      "source": [
        "Module and Package"
      ],
      "metadata": {
        "id": "HilPokpE3DAW"
      }
    },
    {
      "cell_type": "code",
      "source": [
        "# List\n",
        "my_list = [1, 2, 3, 4, 5]\n",
        "print(my_list)\n",
        "my_list[3]\n",
        "my_list.append(6)\n",
        "print(my_list)\n",
        "my_list.index(3)\n",
        "my_list.remove(4)\n",
        "print(my_list)"
      ],
      "metadata": {
        "colab": {
          "base_uri": "https://localhost:8080/"
        },
        "id": "DsgmjczM3Cl3",
        "outputId": "4bf6f893-b0db-4a27-fb26-ba0cac7d6e06"
      },
      "execution_count": null,
      "outputs": [
        {
          "output_type": "stream",
          "name": "stdout",
          "text": [
            "[1, 2, 3, 4, 5]\n",
            "[1, 2, 3, 4, 5, 6]\n",
            "[1, 2, 3, 5, 6]\n"
          ]
        }
      ]
    },
    {
      "cell_type": "markdown",
      "source": [
        "Module"
      ],
      "metadata": {
        "id": "MQoS_NA93HsV"
      }
    },
    {
      "cell_type": "code",
      "source": [
        "from Array import MyArray\n",
        "\n",
        "# Create an instance of the Array class\n",
        "arr = MyArray([1, 2, 3, 4, 5])\n",
        "\n",
        "# Print the original array\n",
        "print(\"Original array:\", arr.array)\n",
        "\n",
        "# Insert 6 at the last index (after the last element)\n",
        "arr.myInsert(6, len(arr.array))  # Inserts 6 at the end\n",
        "print(\"After insertion:\", arr.array)\n",
        "\n",
        "# Remove element 5 from the array\n",
        "arr.myRemove(5)  # Removes element 5 from the array\n",
        "print(\"After removal:\", arr.array)\n",
        "\n",
        "# Find index for element 3"
      ],
      "metadata": {
        "id": "0G5oQG7K3H2V"
      },
      "execution_count": null,
      "outputs": []
    },
    {
      "cell_type": "markdown",
      "source": [
        "Exercise"
      ],
      "metadata": {
        "id": "zlPEab6A3ORT"
      }
    },
    {
      "cell_type": "code",
      "source": [
        "# Dictionary\n",
        "attendance = {\"date\": \"2025-03-10\", \"status\": 1}\n",
        "print(attendance[\"date\"])\n",
        "print(attendance[\"status\"])\n",
        "print(attendance)\n",
        "\n",
        "my_attendance = []\n",
        "my_attendance.append(attendance)\n",
        "print(my_attendance)\n",
        "my_attendance.append({\"date\": \"2025-03-15\", \"status\": 0})\n",
        "print(my_attendance)\n",
        "my_attendance[1]\n",
        "print(my_attendance)"
      ],
      "metadata": {
        "id": "yOZPucH53XEU"
      },
      "execution_count": null,
      "outputs": []
    },
    {
      "cell_type": "code",
      "source": [
        "class Attendance:\n",
        "  def __init__(self, id, name, department,attendance):\n",
        "    self.id = id\n",
        "    self.name = name\n",
        "    self.department = department\n",
        "    self.attendance = attendance\n",
        "\n",
        "person1 = Attendance(123456,\"Ewha Kim\",\"AI\",my_attendance)\n",
        "print(person1)\n",
        "print(\"ID=\", person1.id, \", Name = \",person1.name, \", Department = \", person1.department,\", Attendance = \",person1.attendance)"
      ],
      "metadata": {
        "id": "aEK51EKx3hnN"
      },
      "execution_count": null,
      "outputs": []
    },
    {
      "cell_type": "markdown",
      "source": [
        "Add a method mark_attendance(date, status) that allows the recording of attendance for a particular date. The status should be either: 1 for present and 0 for absent.\n",
        "\n",
        "Add a method view_attendance() that prints out the attendance record for the student. The output should display each entry with the date and the attendance status (Present/Absent).\n",
        "\n",
        "Add a method update_attendance(date, status) that updates the attendance record for a specific date. If the given date is not found in the records, return a message indicating that the date is not found."
      ],
      "metadata": {
        "id": "UzxVn3NJ3noy"
      }
    },
    {
      "cell_type": "code",
      "source": [
        "class Attendance:\n",
        "    def __init__(self, id, name, department, attendance=None):\n",
        "        self.id = id\n",
        "        self.name = name\n",
        "        self.department = department\n",
        "        self.attendance = attendance if attendance is not None else []\n",
        "\n",
        "    def mark_attendance(self, date, status):\n",
        "        self.attendance.append({\"date\": date, \"status\": status})\n",
        "\n",
        "    def view_attendance(self):\n",
        "        print(\"Attendance record for\", self.name, \":\")\n",
        "        for record in self.attendance:\n",
        "            if record['status'] == 1:\n",
        "                status = \"Present\"\n",
        "            else:\n",
        "                status = \"Absent\"\n",
        "            print(f\"Date: {record['date']}, Status {status}\")\n",
        "\n",
        "    def update_attendance(self, date, status):\n",
        "        for record in self.attendance:\n",
        "            if record['date'] == date:\n",
        "                record['status'] = status\n",
        "                print(f\"Attendance updated for {self.name} on {date}\")\n",
        "                return\n",
        "        print(\"Date not found.\")\n",
        "\n",
        "# 예제 실행\n",
        "person1 = Attendance(123456, \"Ewha Kim\", \"AI\")\n",
        "person1.mark_attendance('2025-03-10', 1)\n",
        "person1.mark_attendance('2025-03-11', 0)\n",
        "person1.mark_attendance('2025-03-15', 1)\n",
        "\n",
        "print(person1.update_attendance('2025-03-10', 0))\n",
        "person1.view_attendance()"
      ],
      "metadata": {
        "id": "bEJqjR5t3rm0"
      },
      "execution_count": null,
      "outputs": []
    },
    {
      "cell_type": "markdown",
      "source": [
        "New Exercise!!"
      ],
      "metadata": {
        "id": "_rJ_zX2W3sgG"
      }
    },
    {
      "cell_type": "markdown",
      "source": [
        "Create a class ReservationSystem that manages seat reservations. Implement the following methods:\n",
        "\n",
        "make_reservation(name, seat_number, time, people_count):\n",
        "\n",
        "Adds a new reservation with the given name, seat_number, time, and people_count.\n",
        "\n",
        "view_reservations():\n",
        "\n",
        "Displays all reservations with the name, seat number, time, and the number of people.\n",
        "\n",
        "update_reservation(name, seat_number, time, people_count):\n",
        "\n",
        "Updates a reservation based on the name. If the reservation is not found, print \"Reservation not found.\"."
      ],
      "metadata": {
        "id": "NpEb_pqK5o5P"
      }
    },
    {
      "cell_type": "code",
      "source": [
        "class ReservationSystem:\n",
        "    def __init__(self):\n",
        "        self.reservations = []\n",
        "\n",
        "    def make_reservation(self, name, seat_number, time, people_count):\n",
        "        self.reservations.append({\n",
        "            \"name\": name,\n",
        "            \"seat_number\": seat_number,\n",
        "            \"time\": time,\n",
        "            \"people_count\": people_count\n",
        "        })\n",
        "\n",
        "    def view_reservations(self):\n",
        "        for reservation in self.reservations:\n",
        "            print(f\"Name: {reservation['name']}, Seat: {reservation['seat_number']}, Time: {reservation['time']}, People: {reservation['people_count']}\")\n",
        "\n",
        "    def update_reservation(self, name, seat_number, time, people_count):\n",
        "        for reservation in self.reservations:\n",
        "            if reservation[\"name\"] == name:\n",
        "                reservation[\"seat_number\"] = seat_number\n",
        "                reservation[\"time\"] = time\n",
        "                reservation[\"people_count\"] = people_count\n",
        "                print(f\"Reservation updated for {name}\")\n",
        "                return\n",
        "        print(\"Reservation not found.\")\n",
        "\n",
        "# Example Usage\n",
        "system = ReservationSystem()\n",
        "\n",
        "system.make_reservation(\"Alice\", 5, \"12:00 PM\", 3)\n",
        "system.make_reservation(\"Bob\", 7, \"1:00 PM\", 2)\n",
        "system.make_reservation(\"Charlie\", 10, \"2:30 PM\", 4)\n",
        "\n",
        "system.view_reservations()\n",
        "print(\"---\")\n",
        "\n",
        "system.update_reservation(\"Bob\", 9, \"1:30 PM\", 3)\n",
        "system.view_reservations()\n",
        "print(\"---\")\n",
        "\n",
        "system.update_reservation(\"Dave\", 12, \"3:00 PM\", 2)"
      ],
      "metadata": {
        "colab": {
          "base_uri": "https://localhost:8080/"
        },
        "id": "3QRgcT3Z3wSY",
        "outputId": "e407ce3e-2f65-4950-e825-90257f1e9fe5"
      },
      "execution_count": null,
      "outputs": [
        {
          "output_type": "stream",
          "name": "stdout",
          "text": [
            "Name: Alice, Seat: 5, Time: 12:00 PM, People: 3\n",
            "Name: Bob, Seat: 7, Time: 1:00 PM, People: 2\n",
            "Name: Charlie, Seat: 10, Time: 2:30 PM, People: 4\n",
            "---\n",
            "Reservation updated for Bob\n",
            "Name: Alice, Seat: 5, Time: 12:00 PM, People: 3\n",
            "Name: Bob, Seat: 9, Time: 1:30 PM, People: 3\n",
            "Name: Charlie, Seat: 10, Time: 2:30 PM, People: 4\n",
            "---\n",
            "Reservation not found.\n"
          ]
        }
      ]
    }
  ]
}