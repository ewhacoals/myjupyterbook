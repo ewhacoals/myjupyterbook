{
  "nbformat": 4,
  "nbformat_minor": 0,
  "metadata": {
    "colab": {
      "provenance": []
    },
    "kernelspec": {
      "name": "python3",
      "display_name": "Python 3"
    },
    "language_info": {
      "name": "python"
    }
  },
  "cells": [
    {
      "cell_type": "markdown",
      "source": [
        "# 7_Queue"
      ],
      "metadata": {
        "id": "TfUBqi5uWRSM"
      }
    },
    {
      "cell_type": "markdown",
      "source": [
        "## Modify sys.path to Import External Modules"
      ],
      "metadata": {
        "id": "k-sTHlVBhDYd"
      }
    },
    {
      "cell_type": "code",
      "source": [
        "import sys\n",
        "sys.path.append(\"C:/Users/안채민/Desktop/Jupyter_Book/template_jupyterbook\")"
      ],
      "metadata": {
        "id": "kmVGyNeRhDQ3"
      },
      "execution_count": null,
      "outputs": []
    },
    {
      "cell_type": "markdown",
      "source": [
        "# Queue"
      ],
      "metadata": {
        "id": "1ORCt1I4LMOW"
      }
    },
    {
      "cell_type": "markdown",
      "source": [
        "## Import the ListQueue class from the ListQueue.py file"
      ],
      "metadata": {
        "id": "8uebtTngN9gS"
      }
    },
    {
      "cell_type": "code",
      "source": [
        "from ListQueue import *\n",
        "queue = ListQueue()\n",
        "queue.enqueue(\"Mon\"); queue.enqueue(\"Tue\"); queue.enqueue(\"Wed\"); queue.enqueue(\"Thurs\"); queue.enqueue(\"Fri\")\n",
        "queue.printQueue()\n",
        "print(\"\\nDequeue: remove an element from the front of the queue: \", queue.dequeue())\n",
        "queue.printQueue()"
      ],
      "metadata": {
        "colab": {
          "base_uri": "https://localhost:8080/"
        },
        "id": "0U4jqshMKJpJ",
        "outputId": "b6e0fda9-9977-4906-c921-4012c9df070c"
      },
      "execution_count": null,
      "outputs": [
        {
          "output_type": "stream",
          "name": "stdout",
          "text": [
            "Elements from front to end: \n",
            "Mon Tue Wed Thurs Fri \n",
            "\n",
            "Dequeue: remove an element from the front of the queue:  Mon\n",
            "Elements from front to end: \n",
            "Tue Wed Thurs Fri \n"
          ]
        }
      ]
    },
    {
      "cell_type": "markdown",
      "source": [
        "# Exercises!"
      ],
      "metadata": {
        "id": "Vm-KGr9wPYTK"
      }
    },
    {
      "cell_type": "markdown",
      "source": [
        "## Create your LinkedQueue.py"
      ],
      "metadata": {
        "id": "0wyCDIMyKG4E"
      }
    },
    {
      "cell_type": "code",
      "source": [
        "from CircularLinkedList import *\n",
        "\n",
        "class LinkedQueue:\n",
        "    def __init__(self):\n",
        "        self.queue = CircularLinkedList()\n",
        "\n",
        "    def enqueue(self, x):\n",
        "        self.queue.append(x)\n",
        "\n",
        "    def dequeue(self):\n",
        "        if self.isEmpty():\n",
        "            print(\"Queue is empty. Cannot dequeue.\")\n",
        "            return None\n",
        "        return self.queue.pop(0)\n",
        "\n",
        "    def front(self):\n",
        "        if self.isEmpty():\n",
        "            print(\"Queue is empty. No front element.\")\n",
        "            return None\n",
        "        return self.queue.get(0)\n",
        "\n",
        "    def isEmpty(self) -> bool:\n",
        "        return self.queue.isEmpty()\n",
        "\n",
        "    def dequeueAll(self):\n",
        "        self.queue.clear()\n",
        "\n",
        "    def size(self):\n",
        "        return self.queue.size()\n",
        "\n",
        "    def printQueue(self):\n",
        "        self.queue.printList()\n",
        "\n",
        "    def reverse(self):\n",
        "        # 큐->스택-> 큐\n",
        "        stack = []\n",
        "        while not self.isEmpty():\n",
        "            stack.append(self.dequeue())\n",
        "        while stack:\n",
        "            self.enqueue(stack.pop())"
      ],
      "metadata": {
        "id": "Qmvfhn5WCuoa"
      },
      "execution_count": null,
      "outputs": []
    },
    {
      "cell_type": "code",
      "source": [
        "from mylinkedqueue import *\n",
        "queue = LinkedQueue()\n",
        "queue.enqueue(\"Mon\"); queue.enqueue(\"Tue\"); queue.enqueue(\"Wed\"); queue.enqueue(\"Thurs\"); queue.enqueue(\"Fri\")\n",
        "queue.printQueue()\n",
        "print(\"\\nDequeue: remove an element from the front of the queue: \", queue.dequeue())\n",
        "queue.printQueue()"
      ],
      "metadata": {
        "colab": {
          "base_uri": "https://localhost:8080/"
        },
        "id": "Fj6px8NLKHC2",
        "outputId": "4cf61d99-d5a1-4df6-d249-c8371c73efc1"
      },
      "execution_count": null,
      "outputs": [
        {
          "output_type": "stream",
          "name": "stdout",
          "text": [
            "Mon Tue Wed Thurs Fri \n",
            "\n",
            "Dequeue: remove an element from the front of the queue:  Mon\n",
            "Tue Wed Thurs Fri \n"
          ]
        }
      ]
    },
    {
      "cell_type": "markdown",
      "source": [
        "## Reverse: Queue\n",
        "\n",
        "1. Suppose you have a queue. Create a function that reverses individual characters in a string using a queue. This time make the original queue to be reversed.\n",
        "2. Try to add `reverse()` method to the ListQueue class."
      ],
      "metadata": {
        "id": "aCz_Cy1oPa6u"
      }
    },
    {
      "cell_type": "code",
      "source": [
        "from mylinkedqueue import *\n",
        "queue = LinkedQueue()\n",
        "queue.enqueue(\"Mon\"); queue.enqueue(\"Tue\"); queue.enqueue(\"Wed\"); queue.enqueue(\"Thurs\"); queue.enqueue(\"Fri\")\n",
        "queue.printQueue()\n",
        "\n",
        "def reverseQueue(queue):\n",
        "  queue.reverse()\n",
        "\n",
        "reverseQueue(queue)\n",
        "print(\"After Reversing the queue:\")\n",
        "queue.printQueue()"
      ],
      "metadata": {
        "colab": {
          "base_uri": "https://localhost:8080/"
        },
        "id": "tSZOAgpDPazI",
        "outputId": "ece47b18-8312-4f6a-ef38-ff4c54ffd4f2"
      },
      "execution_count": null,
      "outputs": [
        {
          "output_type": "stream",
          "name": "stdout",
          "text": [
            "Mon Tue Wed Thurs Fri \n",
            "After Reversing the queue:\n",
            "Fri Thurs Wed Tue Mon \n"
          ]
        }
      ]
    },
    {
      "cell_type": "markdown",
      "source": [
        "## Palindrome\n",
        "\n",
        "*   Palindrome is word, phrase, or sequence that reads the same backward as forward (e.g. madam, mom, kayak). Write a function that checks if a string is palindrome using stack and queue data structure.\n",
        "\n"
      ],
      "metadata": {
        "id": "u2DlphfyDJTw"
      }
    },
    {
      "cell_type": "code",
      "source": [
        "from ListStack import *\n",
        "from ListQueue import *\n",
        "\n",
        "def isPalindrome(A):\n",
        "    stack = ListStack()\n",
        "    queue = ListQueue()\n",
        "\n",
        "    # 1. 각 글자 넣가\n",
        "    for i in A:\n",
        "      stack.push(i)\n",
        "      queue.enqueue(i)\n",
        "    # 2. 하나씩 비교\n",
        "    while not stack.isEmpty() and not queue.isEmpty():\n",
        "        if stack.pop() != queue.dequeue():\n",
        "            return False\n",
        "\n",
        "    return True\n",
        "\n",
        "str = 'civic'\n",
        "print(str, \"is Palindrome?: \", isPalindrome(str))"
      ],
      "metadata": {
        "colab": {
          "base_uri": "https://localhost:8080/"
        },
        "id": "OSVrjh_LDItk",
        "outputId": "a2b8f8e8-b605-42fd-8859-9810ec7385c3"
      },
      "execution_count": null,
      "outputs": [
        {
          "output_type": "stream",
          "name": "stdout",
          "text": [
            "civic is Palindrome?:  True\n"
          ]
        }
      ]
    },
    {
      "cell_type": "markdown",
      "source": [
        "New Exercise!!"
      ],
      "metadata": {
        "id": "6Q36HUyuHOi5"
      }
    },
    {
      "cell_type": "markdown",
      "source": [
        "Write a function isBalancedSet(s) that checks if the given string contains balanced sets of parentheses.\n",
        "A set is considered balanced if every opening ( has a corresponding closing ) and there are no unmatched parentheses.\n",
        "The function should return True if the string is a balanced set, otherwise False."
      ],
      "metadata": {
        "id": "4nzSZQv1Hbgc"
      }
    },
    {
      "cell_type": "code",
      "source": [
        "from collections import deque\n",
        "\n",
        "def isBalancedSet(s):\n",
        "    queue = deque()\n",
        "    open_count = 0\n",
        "    close_count = 0\n",
        "\n",
        "    for char in s:\n",
        "        if char == '(':\n",
        "            open_count += 1\n",
        "            queue.append(char)\n",
        "        elif char == ')':\n",
        "            close_count += 1\n",
        "            if queue:\n",
        "                queue.pop()\n",
        "            else:\n",
        "                # More closing than opening\n",
        "                return False\n",
        "\n",
        "    # A complete set should have equal number of open and close\n",
        "    return open_count == close_count\n",
        "\n",
        "# Example Usage\n",
        "print(isBalancedSet(\"(()())\"))  # True\n",
        "print(isBalancedSet(\")))()(\"))  # False\n",
        "print(isBalancedSet(\"()()\"))    # True\n",
        "print(isBalancedSet(\"((())\"))   # False\n",
        "print(isBalancedSet(\"()\"))      # True"
      ],
      "metadata": {
        "colab": {
          "base_uri": "https://localhost:8080/"
        },
        "id": "ecn4CUVaHOxS",
        "outputId": "96d155f7-899c-4ad6-df9e-f91ec953f86f"
      },
      "execution_count": null,
      "outputs": [
        {
          "output_type": "stream",
          "name": "stdout",
          "text": [
            "True\n",
            "False\n",
            "True\n",
            "False\n",
            "True\n"
          ]
        }
      ]
    },
    {
      "cell_type": "markdown",
      "source": [
        "## Fun Example: in your Python, try the below"
      ],
      "metadata": {
        "id": "F-HpVpjJJstO"
      }
    },
    {
      "cell_type": "code",
      "source": [
        "select = input(\"Choose one of the followings (I/D/X): Insert(I)/Delete(D)/Exit(X) ==> \")\n",
        "queue = ListQueue()\n",
        "while (select != \"X\" and select != \"x\"):\n",
        "  if select==\"I\" or select ==\"i\" :\n",
        "    data = input(\"Type Input Data ==> \")\n",
        "    queue.enqueue(data)\n",
        "    print(queue.size(), \"number of elements, front : \", queue.front(), \", rear : \", queue.queue[queue.size()-1])\n",
        "  elif select==\"D\" or select ==\"d\":\n",
        "    print(\"Dequeue: removed an element from the front of the queue: \", queue.dequeue())\n",
        "    print(queue.size(), \"number of elements, front : \", queue.front(), \", rear : \", queue.queue[queue.size()-1])\n",
        "  else :\n",
        "    print(\"Wrong Insertion - should choose on of the followings (I/D/X): Insert(I)/Delete(D)/Exit(X)\")\n",
        "    select = input(\"Choose one of the followings (I/D/X): Insert(I)/Delete(D)/Exit(X) ==> \")\n",
        "    print(\"Terminate the program!\")"
      ],
      "metadata": {
        "id": "W6aL9lmxT0iL"
      },
      "execution_count": null,
      "outputs": []
    }
  ]
}